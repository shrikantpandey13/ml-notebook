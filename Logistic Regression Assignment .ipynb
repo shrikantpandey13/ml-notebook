{
 "cells": [
  {
   "cell_type": "markdown",
   "metadata": {},
   "source": [
    "# Logistic Regression Assignment "
   ]
  },
  {
   "cell_type": "markdown",
   "metadata": {},
   "source": [
    "### Amazon Fine Food Reviews Analysis\n",
    "\n",
    "**Data Source:** https://www.kaggle.com/snap/amazon-fine-food-reviews\n",
    "\n",
    "\n",
    "###### The Amazon Fine Food Reviews dataset consists of reviews of fine foods from Amazon.\n",
    "\n",
    "**Number of reviews:** 568,454<br>\n",
    "**Number of users:** 256,059<br>\n",
    "**Number of products:** 74,258<br>\n",
    "**Timespan:** Oct 1999 - Oct 2012<br>\n",
    "**Number of Attributes/Columns in data:** 10 <br>\n",
    "\n",
    "**Attribute Information:**\n",
    "\n",
    "1.Id<br>\n",
    "2.ProductId - unique identifier for the product<br>\n",
    "3.UserId - unqiue identifier for the user <br>\n",
    "4.ProfileName<br>\n",
    "5.HelpfulnessNumerator - number of users who found the review helpful<br>\n",
    "6.HelpfulnessDenominator - number of users who indicated whether they found the review helpful or not<br>\n",
    "7.Score - rating between 1 and 5<br>\n",
    "8.Time - timestamp for the review<br>\n",
    "9.Summary - brief summary of the review<br>\n",
    "10.Text - text of the review<br>\n",
    "\n",
    "\n",
    "## Objective:\n",
    "- 1. Apply the Logistic Regression algorithm on BOW,TF-IDF,Word2Vec, TF-IDF Word2Vec\n",
    "- 2. Apply the both GridSearch and RandomSearch cross validation\n",
    "- 3. Evaluate differnet metrics such as precision ,recall,f1-score and plot the confusion matrix\n",
    "- 4. Show how sparsity increase as lambda increase or C decreases with L1 regularizer\n",
    "- 5. Use Pertubation to check for the multicolinerity of features\n",
    "\n"
   ]
  },
  {
   "cell_type": "code",
   "execution_count": 3,
   "metadata": {
    "ExecuteTime": {
     "end_time": "2020-03-29T09:57:35.502204Z",
     "start_time": "2020-03-29T09:57:35.494048Z"
    }
   },
   "outputs": [],
   "source": [
    "import numpy as np\n",
    "import pandas as pd\n",
    "import matplotlib.pyplot as plt\n",
    "import sqlite3 as sql\n",
    "import seaborn as sns\n",
    "from time import time\n",
    "import random\n",
    "import gensim\n",
    "import warnings\n",
    "\n",
    "from sklearn.metrics import accuracy_score\n",
    "from sklearn.metrics import confusion_matrix\n",
    "from sklearn.metrics import precision_score\n",
    "from sklearn.metrics import f1_score\n",
    "from sklearn.metrics import recall_score\n",
    "\n",
    "warnings.filterwarnings(\"ignore\")\n",
    "\n",
    "%matplotlib inline \n",
    "\n",
    "from sklearn.model_selection import GridSearchCV\n",
    "from sklearn.model_selection import RandomizedSearchCV\n",
    "from sklearn.linear_model import LogisticRegression\n",
    "from sklearn.model_selection import TimeSeriesSplit\n",
    "from sklearn.feature_extraction.text import TfidfVectorizer"
   ]
  },
  {
   "cell_type": "markdown",
   "metadata": {},
   "source": [
    "### Load the pre processing file in sql format"
   ]
  },
  {
   "cell_type": "code",
   "execution_count": 2,
   "metadata": {
    "ExecuteTime": {
     "end_time": "2020-03-29T09:57:10.621230Z",
     "start_time": "2020-03-29T09:57:09.892586Z"
    }
   },
   "outputs": [
    {
     "ename": "DatabaseError",
     "evalue": "Execution failed on sql '\nSELECT * FROM Reviews \n': no such table: Reviews",
     "output_type": "error",
     "traceback": [
      "\u001b[1;31m---------------------------------------------------------------------------\u001b[0m",
      "\u001b[1;31mOperationalError\u001b[0m                          Traceback (most recent call last)",
      "\u001b[1;32m~\\Anaconda3\\lib\\site-packages\\pandas\\io\\sql.py\u001b[0m in \u001b[0;36mexecute\u001b[1;34m(self, *args, **kwargs)\u001b[0m\n\u001b[0;32m   1377\u001b[0m             \u001b[1;32melse\u001b[0m\u001b[1;33m:\u001b[0m\u001b[1;33m\u001b[0m\u001b[0m\n\u001b[1;32m-> 1378\u001b[1;33m                 \u001b[0mcur\u001b[0m\u001b[1;33m.\u001b[0m\u001b[0mexecute\u001b[0m\u001b[1;33m(\u001b[0m\u001b[1;33m*\u001b[0m\u001b[0margs\u001b[0m\u001b[1;33m)\u001b[0m\u001b[1;33m\u001b[0m\u001b[0m\n\u001b[0m\u001b[0;32m   1379\u001b[0m             \u001b[1;32mreturn\u001b[0m \u001b[0mcur\u001b[0m\u001b[1;33m\u001b[0m\u001b[0m\n",
      "\u001b[1;31mOperationalError\u001b[0m: no such table: Reviews",
      "\nDuring handling of the above exception, another exception occurred:\n",
      "\u001b[1;31mDatabaseError\u001b[0m                             Traceback (most recent call last)",
      "\u001b[1;32m<ipython-input-2-d8b9d30730c0>\u001b[0m in \u001b[0;36m<module>\u001b[1;34m()\u001b[0m\n\u001b[0;32m      6\u001b[0m final_data = pd.read_sql_query(\"\"\"\n\u001b[0;32m      7\u001b[0m \u001b[0mSELECT\u001b[0m \u001b[1;33m*\u001b[0m \u001b[0mFROM\u001b[0m \u001b[0mReviews\u001b[0m\u001b[1;33m\u001b[0m\u001b[0m\n\u001b[1;32m----> 8\u001b[1;33m \"\"\",con)\n\u001b[0m",
      "\u001b[1;32m~\\Anaconda3\\lib\\site-packages\\pandas\\io\\sql.py\u001b[0m in \u001b[0;36mread_sql_query\u001b[1;34m(sql, con, index_col, coerce_float, params, parse_dates, chunksize)\u001b[0m\n\u001b[0;32m    312\u001b[0m     return pandas_sql.read_query(\n\u001b[0;32m    313\u001b[0m         \u001b[0msql\u001b[0m\u001b[1;33m,\u001b[0m \u001b[0mindex_col\u001b[0m\u001b[1;33m=\u001b[0m\u001b[0mindex_col\u001b[0m\u001b[1;33m,\u001b[0m \u001b[0mparams\u001b[0m\u001b[1;33m=\u001b[0m\u001b[0mparams\u001b[0m\u001b[1;33m,\u001b[0m \u001b[0mcoerce_float\u001b[0m\u001b[1;33m=\u001b[0m\u001b[0mcoerce_float\u001b[0m\u001b[1;33m,\u001b[0m\u001b[1;33m\u001b[0m\u001b[0m\n\u001b[1;32m--> 314\u001b[1;33m         parse_dates=parse_dates, chunksize=chunksize)\n\u001b[0m\u001b[0;32m    315\u001b[0m \u001b[1;33m\u001b[0m\u001b[0m\n\u001b[0;32m    316\u001b[0m \u001b[1;33m\u001b[0m\u001b[0m\n",
      "\u001b[1;32m~\\Anaconda3\\lib\\site-packages\\pandas\\io\\sql.py\u001b[0m in \u001b[0;36mread_query\u001b[1;34m(self, sql, index_col, coerce_float, params, parse_dates, chunksize)\u001b[0m\n\u001b[0;32m   1411\u001b[0m \u001b[1;33m\u001b[0m\u001b[0m\n\u001b[0;32m   1412\u001b[0m         \u001b[0margs\u001b[0m \u001b[1;33m=\u001b[0m \u001b[0m_convert_params\u001b[0m\u001b[1;33m(\u001b[0m\u001b[0msql\u001b[0m\u001b[1;33m,\u001b[0m \u001b[0mparams\u001b[0m\u001b[1;33m)\u001b[0m\u001b[1;33m\u001b[0m\u001b[0m\n\u001b[1;32m-> 1413\u001b[1;33m         \u001b[0mcursor\u001b[0m \u001b[1;33m=\u001b[0m \u001b[0mself\u001b[0m\u001b[1;33m.\u001b[0m\u001b[0mexecute\u001b[0m\u001b[1;33m(\u001b[0m\u001b[1;33m*\u001b[0m\u001b[0margs\u001b[0m\u001b[1;33m)\u001b[0m\u001b[1;33m\u001b[0m\u001b[0m\n\u001b[0m\u001b[0;32m   1414\u001b[0m         \u001b[0mcolumns\u001b[0m \u001b[1;33m=\u001b[0m \u001b[1;33m[\u001b[0m\u001b[0mcol_desc\u001b[0m\u001b[1;33m[\u001b[0m\u001b[1;36m0\u001b[0m\u001b[1;33m]\u001b[0m \u001b[1;32mfor\u001b[0m \u001b[0mcol_desc\u001b[0m \u001b[1;32min\u001b[0m \u001b[0mcursor\u001b[0m\u001b[1;33m.\u001b[0m\u001b[0mdescription\u001b[0m\u001b[1;33m]\u001b[0m\u001b[1;33m\u001b[0m\u001b[0m\n\u001b[0;32m   1415\u001b[0m \u001b[1;33m\u001b[0m\u001b[0m\n",
      "\u001b[1;32m~\\Anaconda3\\lib\\site-packages\\pandas\\io\\sql.py\u001b[0m in \u001b[0;36mexecute\u001b[1;34m(self, *args, **kwargs)\u001b[0m\n\u001b[0;32m   1388\u001b[0m             ex = DatabaseError(\n\u001b[0;32m   1389\u001b[0m                 \"Execution failed on sql '%s': %s\" % (args[0], exc))\n\u001b[1;32m-> 1390\u001b[1;33m             \u001b[0mraise_with_traceback\u001b[0m\u001b[1;33m(\u001b[0m\u001b[0mex\u001b[0m\u001b[1;33m)\u001b[0m\u001b[1;33m\u001b[0m\u001b[0m\n\u001b[0m\u001b[0;32m   1391\u001b[0m \u001b[1;33m\u001b[0m\u001b[0m\n\u001b[0;32m   1392\u001b[0m     \u001b[1;33m@\u001b[0m\u001b[0mstaticmethod\u001b[0m\u001b[1;33m\u001b[0m\u001b[0m\n",
      "\u001b[1;32m~\\Anaconda3\\lib\\site-packages\\pandas\\compat\\__init__.py\u001b[0m in \u001b[0;36mraise_with_traceback\u001b[1;34m(exc, traceback)\u001b[0m\n\u001b[0;32m    402\u001b[0m         \u001b[1;32mif\u001b[0m \u001b[0mtraceback\u001b[0m \u001b[1;33m==\u001b[0m \u001b[0mEllipsis\u001b[0m\u001b[1;33m:\u001b[0m\u001b[1;33m\u001b[0m\u001b[0m\n\u001b[0;32m    403\u001b[0m             \u001b[0m_\u001b[0m\u001b[1;33m,\u001b[0m \u001b[0m_\u001b[0m\u001b[1;33m,\u001b[0m \u001b[0mtraceback\u001b[0m \u001b[1;33m=\u001b[0m \u001b[0msys\u001b[0m\u001b[1;33m.\u001b[0m\u001b[0mexc_info\u001b[0m\u001b[1;33m(\u001b[0m\u001b[1;33m)\u001b[0m\u001b[1;33m\u001b[0m\u001b[0m\n\u001b[1;32m--> 404\u001b[1;33m         \u001b[1;32mraise\u001b[0m \u001b[0mexc\u001b[0m\u001b[1;33m.\u001b[0m\u001b[0mwith_traceback\u001b[0m\u001b[1;33m(\u001b[0m\u001b[0mtraceback\u001b[0m\u001b[1;33m)\u001b[0m\u001b[1;33m\u001b[0m\u001b[0m\n\u001b[0m\u001b[0;32m    405\u001b[0m \u001b[1;32melse\u001b[0m\u001b[1;33m:\u001b[0m\u001b[1;33m\u001b[0m\u001b[0m\n\u001b[0;32m    406\u001b[0m     \u001b[1;31m# this version of raise is a syntax error in Python 3\u001b[0m\u001b[1;33m\u001b[0m\u001b[1;33m\u001b[0m\u001b[0m\n",
      "\u001b[1;32m~\\Anaconda3\\lib\\site-packages\\pandas\\io\\sql.py\u001b[0m in \u001b[0;36mexecute\u001b[1;34m(self, *args, **kwargs)\u001b[0m\n\u001b[0;32m   1376\u001b[0m                 \u001b[0mcur\u001b[0m\u001b[1;33m.\u001b[0m\u001b[0mexecute\u001b[0m\u001b[1;33m(\u001b[0m\u001b[1;33m*\u001b[0m\u001b[0margs\u001b[0m\u001b[1;33m,\u001b[0m \u001b[1;33m**\u001b[0m\u001b[0mkwargs\u001b[0m\u001b[1;33m)\u001b[0m\u001b[1;33m\u001b[0m\u001b[0m\n\u001b[0;32m   1377\u001b[0m             \u001b[1;32melse\u001b[0m\u001b[1;33m:\u001b[0m\u001b[1;33m\u001b[0m\u001b[0m\n\u001b[1;32m-> 1378\u001b[1;33m                 \u001b[0mcur\u001b[0m\u001b[1;33m.\u001b[0m\u001b[0mexecute\u001b[0m\u001b[1;33m(\u001b[0m\u001b[1;33m*\u001b[0m\u001b[0margs\u001b[0m\u001b[1;33m)\u001b[0m\u001b[1;33m\u001b[0m\u001b[0m\n\u001b[0m\u001b[0;32m   1379\u001b[0m             \u001b[1;32mreturn\u001b[0m \u001b[0mcur\u001b[0m\u001b[1;33m\u001b[0m\u001b[0m\n\u001b[0;32m   1380\u001b[0m         \u001b[1;32mexcept\u001b[0m \u001b[0mException\u001b[0m \u001b[1;32mas\u001b[0m \u001b[0mexc\u001b[0m\u001b[1;33m:\u001b[0m\u001b[1;33m\u001b[0m\u001b[0m\n",
      "\u001b[1;31mDatabaseError\u001b[0m: Execution failed on sql '\nSELECT * FROM Reviews \n': no such table: Reviews"
     ]
    }
   ],
   "source": [
    "#Using sqlite3 to retrieve data from sqlite file\n",
    "\n",
    "con = sql.connect(\"final.sqlite\")#Loading Cleaned/ Preprocesed text that we did in Text Preprocessing\n",
    "\n",
    "#Using pandas functions to query from sql table\n",
    "final_data = pd.read_sql_query(\"\"\"\n",
    "SELECT * FROM Reviews \n",
    "\"\"\",con)"
   ]
  },
  {
   "cell_type": "code",
   "execution_count": 3,
   "metadata": {
    "ExecuteTime": {
     "end_time": "2018-09-04T05:55:53.882194Z",
     "start_time": "2018-09-04T05:55:53.790387Z"
    }
   },
   "outputs": [
    {
     "data": {
      "text/html": [
       "<div>\n",
       "<style scoped>\n",
       "    .dataframe tbody tr th:only-of-type {\n",
       "        vertical-align: middle;\n",
       "    }\n",
       "\n",
       "    .dataframe tbody tr th {\n",
       "        vertical-align: top;\n",
       "    }\n",
       "\n",
       "    .dataframe thead th {\n",
       "        text-align: right;\n",
       "    }\n",
       "</style>\n",
       "<table border=\"1\" class=\"dataframe\">\n",
       "  <thead>\n",
       "    <tr style=\"text-align: right;\">\n",
       "      <th></th>\n",
       "      <th>index</th>\n",
       "      <th>Id</th>\n",
       "      <th>ProductId</th>\n",
       "      <th>UserId</th>\n",
       "      <th>ProfileName</th>\n",
       "      <th>HelpfulnessNumerator</th>\n",
       "      <th>HelpfulnessDenominator</th>\n",
       "      <th>Score</th>\n",
       "      <th>Time</th>\n",
       "      <th>Summary</th>\n",
       "      <th>Text</th>\n",
       "      <th>CleanedText</th>\n",
       "    </tr>\n",
       "  </thead>\n",
       "  <tbody>\n",
       "    <tr>\n",
       "      <th>0</th>\n",
       "      <td>138706</td>\n",
       "      <td>150524</td>\n",
       "      <td>0006641040</td>\n",
       "      <td>ACITT7DI6IDDL</td>\n",
       "      <td>shari zychinski</td>\n",
       "      <td>0</td>\n",
       "      <td>0</td>\n",
       "      <td>positive</td>\n",
       "      <td>939340800</td>\n",
       "      <td>EVERY book is educational</td>\n",
       "      <td>this witty little book makes my son laugh at l...</td>\n",
       "      <td>b'witti littl book make son laugh loud recit c...</td>\n",
       "    </tr>\n",
       "    <tr>\n",
       "      <th>1</th>\n",
       "      <td>138688</td>\n",
       "      <td>150506</td>\n",
       "      <td>0006641040</td>\n",
       "      <td>A2IW4PEEKO2R0U</td>\n",
       "      <td>Tracy</td>\n",
       "      <td>1</td>\n",
       "      <td>1</td>\n",
       "      <td>positive</td>\n",
       "      <td>1194739200</td>\n",
       "      <td>Love the book, miss the hard cover version</td>\n",
       "      <td>I grew up reading these Sendak books, and watc...</td>\n",
       "      <td>b'grew read sendak book watch realli rosi movi...</td>\n",
       "    </tr>\n",
       "    <tr>\n",
       "      <th>2</th>\n",
       "      <td>138689</td>\n",
       "      <td>150507</td>\n",
       "      <td>0006641040</td>\n",
       "      <td>A1S4A3IQ2MU7V4</td>\n",
       "      <td>sally sue \"sally sue\"</td>\n",
       "      <td>1</td>\n",
       "      <td>1</td>\n",
       "      <td>positive</td>\n",
       "      <td>1191456000</td>\n",
       "      <td>chicken soup with rice months</td>\n",
       "      <td>This is a fun way for children to learn their ...</td>\n",
       "      <td>b'fun way children learn month year learn poem...</td>\n",
       "    </tr>\n",
       "    <tr>\n",
       "      <th>3</th>\n",
       "      <td>138690</td>\n",
       "      <td>150508</td>\n",
       "      <td>0006641040</td>\n",
       "      <td>AZGXZ2UUK6X</td>\n",
       "      <td>Catherine Hallberg \"(Kate)\"</td>\n",
       "      <td>1</td>\n",
       "      <td>1</td>\n",
       "      <td>positive</td>\n",
       "      <td>1076025600</td>\n",
       "      <td>a good swingy rhythm for reading aloud</td>\n",
       "      <td>This is a great little book to read aloud- it ...</td>\n",
       "      <td>b'great littl book read nice rhythm well good ...</td>\n",
       "    </tr>\n",
       "    <tr>\n",
       "      <th>4</th>\n",
       "      <td>138691</td>\n",
       "      <td>150509</td>\n",
       "      <td>0006641040</td>\n",
       "      <td>A3CMRKGE0P909G</td>\n",
       "      <td>Teresa</td>\n",
       "      <td>3</td>\n",
       "      <td>4</td>\n",
       "      <td>positive</td>\n",
       "      <td>1018396800</td>\n",
       "      <td>A great way to learn the months</td>\n",
       "      <td>This is a book of poetry about the months of t...</td>\n",
       "      <td>b'book poetri month year goe month cute littl ...</td>\n",
       "    </tr>\n",
       "  </tbody>\n",
       "</table>\n",
       "</div>"
      ],
      "text/plain": [
       "    index      Id   ProductId          UserId                  ProfileName  \\\n",
       "0  138706  150524  0006641040   ACITT7DI6IDDL              shari zychinski   \n",
       "1  138688  150506  0006641040  A2IW4PEEKO2R0U                        Tracy   \n",
       "2  138689  150507  0006641040  A1S4A3IQ2MU7V4        sally sue \"sally sue\"   \n",
       "3  138690  150508  0006641040     AZGXZ2UUK6X  Catherine Hallberg \"(Kate)\"   \n",
       "4  138691  150509  0006641040  A3CMRKGE0P909G                       Teresa   \n",
       "\n",
       "   HelpfulnessNumerator  HelpfulnessDenominator     Score        Time  \\\n",
       "0                     0                       0  positive   939340800   \n",
       "1                     1                       1  positive  1194739200   \n",
       "2                     1                       1  positive  1191456000   \n",
       "3                     1                       1  positive  1076025600   \n",
       "4                     3                       4  positive  1018396800   \n",
       "\n",
       "                                      Summary  \\\n",
       "0                   EVERY book is educational   \n",
       "1  Love the book, miss the hard cover version   \n",
       "2               chicken soup with rice months   \n",
       "3      a good swingy rhythm for reading aloud   \n",
       "4             A great way to learn the months   \n",
       "\n",
       "                                                Text  \\\n",
       "0  this witty little book makes my son laugh at l...   \n",
       "1  I grew up reading these Sendak books, and watc...   \n",
       "2  This is a fun way for children to learn their ...   \n",
       "3  This is a great little book to read aloud- it ...   \n",
       "4  This is a book of poetry about the months of t...   \n",
       "\n",
       "                                         CleanedText  \n",
       "0  b'witti littl book make son laugh loud recit c...  \n",
       "1  b'grew read sendak book watch realli rosi movi...  \n",
       "2  b'fun way children learn month year learn poem...  \n",
       "3  b'great littl book read nice rhythm well good ...  \n",
       "4  b'book poetri month year goe month cute littl ...  "
      ]
     },
     "execution_count": 3,
     "metadata": {},
     "output_type": "execute_result"
    }
   ],
   "source": [
    "final_data.head()"
   ]
  },
  {
   "cell_type": "code",
   "execution_count": 4,
   "metadata": {
    "ExecuteTime": {
     "end_time": "2018-09-04T05:56:13.393011Z",
     "start_time": "2018-09-04T05:56:13.388024Z"
    }
   },
   "outputs": [
    {
     "data": {
      "text/plain": [
       "(364171, 12)"
      ]
     },
     "execution_count": 4,
     "metadata": {},
     "output_type": "execute_result"
    }
   ],
   "source": [
    "final_data.shape"
   ]
  },
  {
   "cell_type": "code",
   "execution_count": 5,
   "metadata": {
    "ExecuteTime": {
     "end_time": "2018-09-04T05:56:15.511758Z",
     "start_time": "2018-09-04T05:56:15.505201Z"
    }
   },
   "outputs": [
    {
     "name": "stdout",
     "output_type": "stream",
     "text": [
      "<class 'pandas.core.frame.DataFrame'>\n"
     ]
    }
   ],
   "source": [
    "print(type(final_data))"
   ]
  },
  {
   "cell_type": "code",
   "execution_count": 6,
   "metadata": {
    "ExecuteTime": {
     "end_time": "2018-09-04T05:56:17.141332Z",
     "start_time": "2018-09-04T05:56:17.137098Z"
    }
   },
   "outputs": [],
   "source": [
    "# now make classification label for Score label\n",
    "\n",
    "def make_0_1(x):\n",
    "    if x=='positive':\n",
    "        return 1\n",
    "    else:\n",
    "        return 0"
   ]
  },
  {
   "cell_type": "code",
   "execution_count": 7,
   "metadata": {
    "ExecuteTime": {
     "end_time": "2018-09-04T05:56:18.336192Z",
     "start_time": "2018-09-04T05:56:17.966182Z"
    }
   },
   "outputs": [],
   "source": [
    "final_data['Score']= final_data['Score'].map(make_0_1)"
   ]
  },
  {
   "cell_type": "code",
   "execution_count": 8,
   "metadata": {
    "ExecuteTime": {
     "end_time": "2018-09-04T05:56:20.555265Z",
     "start_time": "2018-09-04T05:56:20.536178Z"
    }
   },
   "outputs": [
    {
     "data": {
      "text/html": [
       "<div>\n",
       "<style scoped>\n",
       "    .dataframe tbody tr th:only-of-type {\n",
       "        vertical-align: middle;\n",
       "    }\n",
       "\n",
       "    .dataframe tbody tr th {\n",
       "        vertical-align: top;\n",
       "    }\n",
       "\n",
       "    .dataframe thead th {\n",
       "        text-align: right;\n",
       "    }\n",
       "</style>\n",
       "<table border=\"1\" class=\"dataframe\">\n",
       "  <thead>\n",
       "    <tr style=\"text-align: right;\">\n",
       "      <th></th>\n",
       "      <th>index</th>\n",
       "      <th>Id</th>\n",
       "      <th>ProductId</th>\n",
       "      <th>UserId</th>\n",
       "      <th>ProfileName</th>\n",
       "      <th>HelpfulnessNumerator</th>\n",
       "      <th>HelpfulnessDenominator</th>\n",
       "      <th>Score</th>\n",
       "      <th>Time</th>\n",
       "      <th>Summary</th>\n",
       "      <th>Text</th>\n",
       "      <th>CleanedText</th>\n",
       "    </tr>\n",
       "  </thead>\n",
       "  <tbody>\n",
       "    <tr>\n",
       "      <th>0</th>\n",
       "      <td>138706</td>\n",
       "      <td>150524</td>\n",
       "      <td>0006641040</td>\n",
       "      <td>ACITT7DI6IDDL</td>\n",
       "      <td>shari zychinski</td>\n",
       "      <td>0</td>\n",
       "      <td>0</td>\n",
       "      <td>1</td>\n",
       "      <td>939340800</td>\n",
       "      <td>EVERY book is educational</td>\n",
       "      <td>this witty little book makes my son laugh at l...</td>\n",
       "      <td>b'witti littl book make son laugh loud recit c...</td>\n",
       "    </tr>\n",
       "    <tr>\n",
       "      <th>1</th>\n",
       "      <td>138688</td>\n",
       "      <td>150506</td>\n",
       "      <td>0006641040</td>\n",
       "      <td>A2IW4PEEKO2R0U</td>\n",
       "      <td>Tracy</td>\n",
       "      <td>1</td>\n",
       "      <td>1</td>\n",
       "      <td>1</td>\n",
       "      <td>1194739200</td>\n",
       "      <td>Love the book, miss the hard cover version</td>\n",
       "      <td>I grew up reading these Sendak books, and watc...</td>\n",
       "      <td>b'grew read sendak book watch realli rosi movi...</td>\n",
       "    </tr>\n",
       "    <tr>\n",
       "      <th>2</th>\n",
       "      <td>138689</td>\n",
       "      <td>150507</td>\n",
       "      <td>0006641040</td>\n",
       "      <td>A1S4A3IQ2MU7V4</td>\n",
       "      <td>sally sue \"sally sue\"</td>\n",
       "      <td>1</td>\n",
       "      <td>1</td>\n",
       "      <td>1</td>\n",
       "      <td>1191456000</td>\n",
       "      <td>chicken soup with rice months</td>\n",
       "      <td>This is a fun way for children to learn their ...</td>\n",
       "      <td>b'fun way children learn month year learn poem...</td>\n",
       "    </tr>\n",
       "    <tr>\n",
       "      <th>3</th>\n",
       "      <td>138690</td>\n",
       "      <td>150508</td>\n",
       "      <td>0006641040</td>\n",
       "      <td>AZGXZ2UUK6X</td>\n",
       "      <td>Catherine Hallberg \"(Kate)\"</td>\n",
       "      <td>1</td>\n",
       "      <td>1</td>\n",
       "      <td>1</td>\n",
       "      <td>1076025600</td>\n",
       "      <td>a good swingy rhythm for reading aloud</td>\n",
       "      <td>This is a great little book to read aloud- it ...</td>\n",
       "      <td>b'great littl book read nice rhythm well good ...</td>\n",
       "    </tr>\n",
       "    <tr>\n",
       "      <th>4</th>\n",
       "      <td>138691</td>\n",
       "      <td>150509</td>\n",
       "      <td>0006641040</td>\n",
       "      <td>A3CMRKGE0P909G</td>\n",
       "      <td>Teresa</td>\n",
       "      <td>3</td>\n",
       "      <td>4</td>\n",
       "      <td>1</td>\n",
       "      <td>1018396800</td>\n",
       "      <td>A great way to learn the months</td>\n",
       "      <td>This is a book of poetry about the months of t...</td>\n",
       "      <td>b'book poetri month year goe month cute littl ...</td>\n",
       "    </tr>\n",
       "  </tbody>\n",
       "</table>\n",
       "</div>"
      ],
      "text/plain": [
       "    index      Id   ProductId          UserId                  ProfileName  \\\n",
       "0  138706  150524  0006641040   ACITT7DI6IDDL              shari zychinski   \n",
       "1  138688  150506  0006641040  A2IW4PEEKO2R0U                        Tracy   \n",
       "2  138689  150507  0006641040  A1S4A3IQ2MU7V4        sally sue \"sally sue\"   \n",
       "3  138690  150508  0006641040     AZGXZ2UUK6X  Catherine Hallberg \"(Kate)\"   \n",
       "4  138691  150509  0006641040  A3CMRKGE0P909G                       Teresa   \n",
       "\n",
       "   HelpfulnessNumerator  HelpfulnessDenominator  Score        Time  \\\n",
       "0                     0                       0      1   939340800   \n",
       "1                     1                       1      1  1194739200   \n",
       "2                     1                       1      1  1191456000   \n",
       "3                     1                       1      1  1076025600   \n",
       "4                     3                       4      1  1018396800   \n",
       "\n",
       "                                      Summary  \\\n",
       "0                   EVERY book is educational   \n",
       "1  Love the book, miss the hard cover version   \n",
       "2               chicken soup with rice months   \n",
       "3      a good swingy rhythm for reading aloud   \n",
       "4             A great way to learn the months   \n",
       "\n",
       "                                                Text  \\\n",
       "0  this witty little book makes my son laugh at l...   \n",
       "1  I grew up reading these Sendak books, and watc...   \n",
       "2  This is a fun way for children to learn their ...   \n",
       "3  This is a great little book to read aloud- it ...   \n",
       "4  This is a book of poetry about the months of t...   \n",
       "\n",
       "                                         CleanedText  \n",
       "0  b'witti littl book make son laugh loud recit c...  \n",
       "1  b'grew read sendak book watch realli rosi movi...  \n",
       "2  b'fun way children learn month year learn poem...  \n",
       "3  b'great littl book read nice rhythm well good ...  \n",
       "4  b'book poetri month year goe month cute littl ...  "
      ]
     },
     "execution_count": 8,
     "metadata": {},
     "output_type": "execute_result"
    }
   ],
   "source": [
    "final_data.head()"
   ]
  },
  {
   "cell_type": "code",
   "execution_count": 10,
   "metadata": {
    "ExecuteTime": {
     "end_time": "2018-09-04T05:57:03.430327Z",
     "start_time": "2018-09-04T05:57:03.218955Z"
    }
   },
   "outputs": [
    {
     "data": {
      "text/html": [
       "<div>\n",
       "<style scoped>\n",
       "    .dataframe tbody tr th:only-of-type {\n",
       "        vertical-align: middle;\n",
       "    }\n",
       "\n",
       "    .dataframe tbody tr th {\n",
       "        vertical-align: top;\n",
       "    }\n",
       "\n",
       "    .dataframe thead th {\n",
       "        text-align: right;\n",
       "    }\n",
       "</style>\n",
       "<table border=\"1\" class=\"dataframe\">\n",
       "  <thead>\n",
       "    <tr style=\"text-align: right;\">\n",
       "      <th></th>\n",
       "      <th>index</th>\n",
       "      <th>Id</th>\n",
       "      <th>ProductId</th>\n",
       "      <th>UserId</th>\n",
       "      <th>ProfileName</th>\n",
       "      <th>HelpfulnessNumerator</th>\n",
       "      <th>HelpfulnessDenominator</th>\n",
       "      <th>Score</th>\n",
       "      <th>Time</th>\n",
       "      <th>Summary</th>\n",
       "      <th>Text</th>\n",
       "      <th>CleanedText</th>\n",
       "    </tr>\n",
       "  </thead>\n",
       "  <tbody>\n",
       "    <tr>\n",
       "      <th>30</th>\n",
       "      <td>138683</td>\n",
       "      <td>150501</td>\n",
       "      <td>0006641040</td>\n",
       "      <td>AJ46FKXOVC7NR</td>\n",
       "      <td>Nicholas A Mesiano</td>\n",
       "      <td>2</td>\n",
       "      <td>2</td>\n",
       "      <td>1</td>\n",
       "      <td>940809600</td>\n",
       "      <td>This whole series is great way to spend time w...</td>\n",
       "      <td>I can remember seeing the show when it aired o...</td>\n",
       "      <td>b'rememb see show air televis year ago child s...</td>\n",
       "    </tr>\n",
       "    <tr>\n",
       "      <th>261</th>\n",
       "      <td>346141</td>\n",
       "      <td>374450</td>\n",
       "      <td>B00004CI84</td>\n",
       "      <td>ACJR7EQF9S6FP</td>\n",
       "      <td>Jeremy Robertson</td>\n",
       "      <td>2</td>\n",
       "      <td>3</td>\n",
       "      <td>1</td>\n",
       "      <td>951523200</td>\n",
       "      <td>Bettlejuice...Bettlejuice...BETTLEJUICE!</td>\n",
       "      <td>What happens when you say his name three times...</td>\n",
       "      <td>b'happen say name three time michael keaten st...</td>\n",
       "    </tr>\n",
       "    <tr>\n",
       "      <th>325</th>\n",
       "      <td>346094</td>\n",
       "      <td>374400</td>\n",
       "      <td>B00004CI84</td>\n",
       "      <td>A2DEE7F9XKP3ZR</td>\n",
       "      <td>jerome</td>\n",
       "      <td>0</td>\n",
       "      <td>3</td>\n",
       "      <td>1</td>\n",
       "      <td>959990400</td>\n",
       "      <td>Research - Beatlejuice video - French version</td>\n",
       "      <td>I'm getting crazy.I'm looking for Beatlejuice ...</td>\n",
       "      <td>b'get crazi look beatlejuic french version vid...</td>\n",
       "    </tr>\n",
       "    <tr>\n",
       "      <th>427</th>\n",
       "      <td>417883</td>\n",
       "      <td>451903</td>\n",
       "      <td>B00004CXX9</td>\n",
       "      <td>A2DEE7F9XKP3ZR</td>\n",
       "      <td>jerome</td>\n",
       "      <td>0</td>\n",
       "      <td>1</td>\n",
       "      <td>1</td>\n",
       "      <td>959990400</td>\n",
       "      <td>Research</td>\n",
       "      <td>I'm getting crazy.&lt;p&gt;Is it really impossible t...</td>\n",
       "      <td>b'get crazi realli imposs today find french vh...</td>\n",
       "    </tr>\n",
       "    <tr>\n",
       "      <th>242</th>\n",
       "      <td>1145</td>\n",
       "      <td>1244</td>\n",
       "      <td>B00002Z754</td>\n",
       "      <td>A3B8RCEI0FXFI6</td>\n",
       "      <td>B G Chase</td>\n",
       "      <td>10</td>\n",
       "      <td>10</td>\n",
       "      <td>1</td>\n",
       "      <td>962236800</td>\n",
       "      <td>WOW Make your own 'slickers' !</td>\n",
       "      <td>I just received my shipment and could hardly w...</td>\n",
       "      <td>b'receiv shipment could hard wait tri product ...</td>\n",
       "    </tr>\n",
       "  </tbody>\n",
       "</table>\n",
       "</div>"
      ],
      "text/plain": [
       "      index      Id   ProductId          UserId         ProfileName  \\\n",
       "30   138683  150501  0006641040   AJ46FKXOVC7NR  Nicholas A Mesiano   \n",
       "261  346141  374450  B00004CI84   ACJR7EQF9S6FP    Jeremy Robertson   \n",
       "325  346094  374400  B00004CI84  A2DEE7F9XKP3ZR              jerome   \n",
       "427  417883  451903  B00004CXX9  A2DEE7F9XKP3ZR              jerome   \n",
       "242    1145    1244  B00002Z754  A3B8RCEI0FXFI6           B G Chase   \n",
       "\n",
       "     HelpfulnessNumerator  HelpfulnessDenominator  Score       Time  \\\n",
       "30                      2                       2      1  940809600   \n",
       "261                     2                       3      1  951523200   \n",
       "325                     0                       3      1  959990400   \n",
       "427                     0                       1      1  959990400   \n",
       "242                    10                      10      1  962236800   \n",
       "\n",
       "                                               Summary  \\\n",
       "30   This whole series is great way to spend time w...   \n",
       "261           Bettlejuice...Bettlejuice...BETTLEJUICE!   \n",
       "325      Research - Beatlejuice video - French version   \n",
       "427                                           Research   \n",
       "242                     WOW Make your own 'slickers' !   \n",
       "\n",
       "                                                  Text  \\\n",
       "30   I can remember seeing the show when it aired o...   \n",
       "261  What happens when you say his name three times...   \n",
       "325  I'm getting crazy.I'm looking for Beatlejuice ...   \n",
       "427  I'm getting crazy.<p>Is it really impossible t...   \n",
       "242  I just received my shipment and could hardly w...   \n",
       "\n",
       "                                           CleanedText  \n",
       "30   b'rememb see show air televis year ago child s...  \n",
       "261  b'happen say name three time michael keaten st...  \n",
       "325  b'get crazi look beatlejuic french version vid...  \n",
       "427  b'get crazi realli imposs today find french vh...  \n",
       "242  b'receiv shipment could hard wait tri product ...  "
      ]
     },
     "execution_count": 10,
     "metadata": {},
     "output_type": "execute_result"
    }
   ],
   "source": [
    "#sampling of 364k data point\n",
    "n_samples = 100000\n",
    "final_data_sample = final_data.sample(n_samples)\n",
    "\n",
    "final_data_sample.sort_values('Time',axis=0,inplace=True)\n",
    "\n",
    "final_data_sample.head()"
   ]
  },
  {
   "cell_type": "code",
   "execution_count": 12,
   "metadata": {
    "ExecuteTime": {
     "end_time": "2018-09-04T05:57:38.856067Z",
     "start_time": "2018-09-04T05:57:38.851533Z"
    }
   },
   "outputs": [
    {
     "data": {
      "text/plain": [
       "(100000, 12)"
      ]
     },
     "execution_count": 12,
     "metadata": {},
     "output_type": "execute_result"
    }
   ],
   "source": [
    "final_data_sample.shape"
   ]
  },
  {
   "cell_type": "code",
   "execution_count": 13,
   "metadata": {
    "ExecuteTime": {
     "end_time": "2018-09-04T05:57:43.101225Z",
     "start_time": "2018-09-04T05:57:43.096710Z"
    }
   },
   "outputs": [],
   "source": [
    "#Functions to save objects for later use and retireve it\n",
    "import pickle\n",
    "def SaveToFile(obj,filename):\n",
    "    pickle.dump(obj,open(filename+\".p\",\"wb\"))\n",
    "def OpenFromFile(filename):\n",
    "    temp = pickle.load(open(filename+\".p\",\"rb\"))\n",
    "    return temp"
   ]
  },
  {
   "cell_type": "markdown",
   "metadata": {},
   "source": [
    "### Logistic Regression on BOW for Uni-gram"
   ]
  },
  {
   "cell_type": "code",
   "execution_count": 14,
   "metadata": {
    "ExecuteTime": {
     "end_time": "2018-09-04T05:57:50.905396Z",
     "start_time": "2018-09-04T05:57:44.553742Z"
    }
   },
   "outputs": [
    {
     "name": "stdout",
     "output_type": "stream",
     "text": [
      "Train Data Size:  (70000, 32007)\n",
      "Test Data Size:  (30000, 32007)\n"
     ]
    }
   ],
   "source": [
    "from sklearn.feature_extraction.text import CountVectorizer\n",
    "from sklearn import preprocessing\n",
    "from sklearn.model_selection import train_test_split\n",
    "\n",
    "X = final_data_sample['CleanedText']\n",
    "y = final_data_sample['Score']\n",
    "\n",
    "X_train,X_test,y_train,y_test = train_test_split(X,y,test_size=0.3,shuffle=False)\n",
    "uni_gram = CountVectorizer()\n",
    "X_train = uni_gram.fit_transform(X_train)\n",
    "\n",
    "# normalize the data\n",
    "X_train = preprocessing.normalize(X_train)\n",
    "print(\"Train Data Size: \",X_train.shape)\n",
    "X_test = uni_gram.transform(X_test)\n",
    "#Normalize Data\n",
    "X_test = preprocessing.normalize(X_test)\n",
    "print(\"Test Data Size: \",X_test.shape)\n",
    "\n"
   ]
  },
  {
   "cell_type": "markdown",
   "metadata": {},
   "source": [
    "### Find the best C value"
   ]
  },
  {
   "cell_type": "code",
   "execution_count": 15,
   "metadata": {
    "ExecuteTime": {
     "end_time": "2018-09-04T06:07:40.188004Z",
     "start_time": "2018-09-04T05:58:07.803530Z"
    }
   },
   "outputs": [
    {
     "name": "stdout",
     "output_type": "stream",
     "text": [
      "Fitting 10 folds for each of 30 candidates, totalling 300 fits\n"
     ]
    },
    {
     "name": "stderr",
     "output_type": "stream",
     "text": [
      "[Parallel(n_jobs=1)]: Done 300 out of 300 | elapsed:  9.5min finished\n"
     ]
    },
    {
     "name": "stdout",
     "output_type": "stream",
     "text": [
      "Best HyperParameter:  {'C': 10, 'penalty': 'l2'}\n",
      "Best Accuracy: 91.46%\n"
     ]
    }
   ],
   "source": [
    "lr = LogisticRegression()\n",
    "\n",
    "param_grid = {'C':[1000,500,100,50,10,5,1,0.5,0.1,0.05,0.01,0.005,0.001,0.0005,0.0001],\n",
    "             'penalty':['l1','l2']} \n",
    "tscv = TimeSeriesSplit(n_splits=10) #For time based splitting\n",
    "gscv = GridSearchCV(lr,param_grid,cv=tscv,verbose=1) \n",
    "# https://stackoverflow.com/questions/19018333/gridsearchcv-on-logisticregression-in-scikit-learn\n",
    "gscv.fit(X_train,y_train)\n",
    "SaveToFile(gscv,\"LR-Uni-Gram\")\n",
    "print(\"Best HyperParameter: \",gscv.best_params_)\n",
    "print(\"Best Accuracy: %.2f%%\"%(gscv.best_score_*100))"
   ]
  },
  {
   "cell_type": "code",
   "execution_count": 16,
   "metadata": {
    "ExecuteTime": {
     "end_time": "2018-09-04T06:07:51.535884Z",
     "start_time": "2018-09-04T06:07:51.531097Z"
    }
   },
   "outputs": [
    {
     "name": "stdout",
     "output_type": "stream",
     "text": [
      "LogisticRegression(C=10, class_weight=None, dual=False, fit_intercept=True,\n",
      "          intercept_scaling=1, max_iter=100, multi_class='ovr', n_jobs=1,\n",
      "          penalty='l2', random_state=None, solver='liblinear', tol=0.0001,\n",
      "          verbose=0, warm_start=False)\n"
     ]
    }
   ],
   "source": [
    "print(gscv.best_estimator_)"
   ]
  },
  {
   "cell_type": "code",
   "execution_count": 17,
   "metadata": {
    "ExecuteTime": {
     "end_time": "2018-09-04T06:07:55.856400Z",
     "start_time": "2018-09-04T06:07:55.852411Z"
    }
   },
   "outputs": [
    {
     "name": "stdout",
     "output_type": "stream",
     "text": [
      "9\n"
     ]
    }
   ],
   "source": [
    "print(gscv.best_index_ )"
   ]
  },
  {
   "cell_type": "code",
   "execution_count": 18,
   "metadata": {
    "ExecuteTime": {
     "end_time": "2018-09-04T06:08:14.859527Z",
     "start_time": "2018-09-04T06:08:14.615789Z"
    }
   },
   "outputs": [
    {
     "data": {
      "image/png": "[encoded data removed]",
      "text/plain": [
       "<Figure size 432x288 with 1 Axes>"
      ]
     },
     "metadata": {},
     "output_type": "display_data"
    }
   ],
   "source": [
    "# plotting of L1 and L2 error\n",
    "def error_vs_c(gsv):\n",
    "    x1=[]\n",
    "    y1=[]\n",
    "    x2=[]\n",
    "    y2=[]\n",
    "    for a in gsv.grid_scores_:\n",
    "        if (a[0]['penalty']) == 'l1':\n",
    "            y1.append(1-a[1])\n",
    "            x1.append(a[0]['C'])\n",
    "        else:\n",
    "            y2.append(1-a[1])\n",
    "            x2.append(a[0]['C'])\n",
    "    plt.xlim(-10,1010)\n",
    "    plt.ylim(0,0.2)\n",
    "    plt.xlabel(\"C\",fontsize=15)\n",
    "    plt.ylabel(\"Misclassification Error\")\n",
    "    plt.title(' Error v/s C')\n",
    "    plt.plot(x1,y1,'g',label=\"L1\")\n",
    "    plt.plot(x2,y2,'r',label=\"L2\")\n",
    "    plt.legend()\n",
    "    plt.show()\n",
    "gscv = OpenFromFile(\"LR-Uni-Gram\")\n",
    "error_vs_c(gscv)"
   ]
  },
  {
   "cell_type": "code",
   "execution_count": 19,
   "metadata": {
    "ExecuteTime": {
     "end_time": "2018-09-04T06:08:31.477341Z",
     "start_time": "2018-09-04T06:08:27.700721Z"
    }
   },
   "outputs": [
    {
     "name": "stdout",
     "output_type": "stream",
     "text": [
      "Accuracy on test set: 91.453%\n",
      "Precision on test set: 0.930\n",
      "Recall on test set: 0.969\n",
      "F1-Score on test set: 0.949\n",
      "Non Zero weights: 32007\n"
     ]
    },
    {
     "data": {
      "text/plain": [
       "<matplotlib.axes._subplots.AxesSubplot at 0x217a7c01198>"
      ]
     },
     "execution_count": 19,
     "metadata": {},
     "output_type": "execute_result"
    },
    {
     "data": {
      "image/png": "[encoded data removed]",
      "text/plain": [
       "<Figure size 432x288 with 2 Axes>"
      ]
     },
     "metadata": {},
     "output_type": "display_data"
    }
   ],
   "source": [
    "# testing accuracy on the best_estimator\n",
    "lr = LogisticRegression(C=10,penalty='l2')\n",
    "lr.fit(X_train,y_train)\n",
    "y_pred = lr.predict(X_test)\n",
    "print(\"Accuracy on test set: %0.3f%%\"%(accuracy_score(y_test, y_pred)*100))\n",
    "print(\"Precision on test set: %0.3f\"%(precision_score(y_test, y_pred)))\n",
    "print(\"Recall on test set: %0.3f\"%(recall_score(y_test, y_pred)))\n",
    "print(\"F1-Score on test set: %0.3f\"%(f1_score(y_test, y_pred)))\n",
    "print(\"Non Zero weights:\",np.count_nonzero(lr.coef_))\n",
    "df_cm = pd.DataFrame(confusion_matrix(y_test, y_pred), range(2),range(2))\n",
    "sns.set(font_scale=1.4)#for label size\n",
    "sns.heatmap(df_cm, annot=True,annot_kws={\"size\": 16}, fmt='g')"
   ]
  },
  {
   "cell_type": "code",
   "execution_count": 20,
   "metadata": {
    "ExecuteTime": {
     "end_time": "2018-09-04T06:09:17.917773Z",
     "start_time": "2018-09-04T06:08:57.799566Z"
    }
   },
   "outputs": [
    {
     "name": "stdout",
     "output_type": "stream",
     "text": [
      "C_value and l1_value= 1000 l1\n",
      "Accuracy on test set: 86.417%\n",
      "Non Zero weights: 13812\n",
      "----------------------------------------------------------------------------------------------------\n",
      "C_value and l1_value= 100 l1\n",
      "Accuracy on test set: 88.797%\n",
      "Non Zero weights: 10915\n",
      "----------------------------------------------------------------------------------------------------\n",
      "C_value and l1_value= 10 l1\n",
      "Accuracy on test set: 91.003%\n",
      "Non Zero weights: 5430\n",
      "----------------------------------------------------------------------------------------------------\n",
      "C_value and l1_value= 1 l1\n",
      "Accuracy on test set: 91.050%\n",
      "Non Zero weights: 1100\n",
      "----------------------------------------------------------------------------------------------------\n",
      "C_value and l1_value= 0.1 l1\n",
      "Accuracy on test set: 88.280%\n",
      "Non Zero weights: 199\n",
      "----------------------------------------------------------------------------------------------------\n",
      "C_value and l1_value= 0.01 l1\n",
      "Accuracy on test set: 82.473%\n",
      "Non Zero weights: 14\n",
      "----------------------------------------------------------------------------------------------------\n",
      "C_value and l1_value= 0.001 l1\n",
      "Accuracy on test set: 82.453%\n",
      "Non Zero weights: 0\n",
      "----------------------------------------------------------------------------------------------------\n",
      "C_value and l1_value= 0.0001 l1\n",
      "Accuracy on test set: 82.453%\n",
      "Non Zero weights: 0\n",
      "----------------------------------------------------------------------------------------------------\n"
     ]
    }
   ],
   "source": [
    "### Show how sparsity increase as if we increase the value of C\n",
    "C_value = [1000,100,10,1,0.1,0.01,0.001,0.0001]\n",
    "l1_value = ['l1','l1','l1','l1','l1','l1','l1','l1']\n",
    "def sparsity_increase(i,j):\n",
    "    lr = LogisticRegression(C=i,penalty=j)\n",
    "    lr.fit(X_train,y_train)\n",
    "    y_pred = lr.predict(X_test)\n",
    "    print(\"C_value and l1_value=\",i,j)\n",
    "    print(\"Accuracy on test set: %0.3f%%\"%(accuracy_score(y_test, y_pred)*100))\n",
    "    print(\"Non Zero weights:\",np.count_nonzero(lr.coef_))\n",
    "    print(\"-\"*100)\n",
    "\n",
    "\n",
    "for i,j in zip(C_value,l1_value):\n",
    "    sparsity_increase(i,j)\n",
    "    \n",
    "    "
   ]
  },
  {
   "cell_type": "markdown",
   "metadata": {
    "ExecuteTime": {
     "end_time": "2018-09-03T11:23:10.475271Z",
     "start_time": "2018-09-03T11:23:10.472251Z"
    }
   },
   "source": [
    "Here we see that how C values increase the sparsity of matrix increases. At C_value = 0.0001 and l1 regularizer we get 0 non zero weights. That menas that we dont have any non zero value"
   ]
  },
  {
   "cell_type": "markdown",
   "metadata": {},
   "source": [
    "### Logistic Regression using RandomSearch cross validation for uni-gram "
   ]
  },
  {
   "cell_type": "code",
   "execution_count": 21,
   "metadata": {
    "ExecuteTime": {
     "end_time": "2018-09-04T06:12:30.479366Z",
     "start_time": "2018-09-04T06:09:38.936039Z"
    }
   },
   "outputs": [
    {
     "name": "stdout",
     "output_type": "stream",
     "text": [
      "Fitting 10 folds for each of 10 candidates, totalling 100 fits\n"
     ]
    },
    {
     "name": "stderr",
     "output_type": "stream",
     "text": [
      "[Parallel(n_jobs=1)]: Done 100 out of 100 | elapsed:  2.8min finished\n"
     ]
    },
    {
     "name": "stdout",
     "output_type": "stream",
     "text": [
      "Best HyperParameter:  {'penalty': 'l2', 'C': 10}\n",
      "Best Accuracy: 91.46%\n"
     ]
    }
   ],
   "source": [
    "lr = LogisticRegression()\n",
    "\n",
    "param_grid = {'C':[1000,500,100,50,10,5,1,0.5,0.1,0.05,0.01,0.005,0.001,0.0005,0.0001],\n",
    "             'penalty':['l1','l2']} \n",
    "tscv = TimeSeriesSplit(n_splits=10) #For time based splitting\n",
    "gscv = RandomizedSearchCV(lr,param_grid,cv=tscv,verbose=1) \n",
    "gscv.fit(X_train,y_train)\n",
    "SaveToFile(gscv,\"LR_RandomSearch-Uni-Gram\")\n",
    "print(\"Best HyperParameter: \",gscv.best_params_)\n",
    "print(\"Best Accuracy: %.2f%%\"%(gscv.best_score_*100))"
   ]
  },
  {
   "cell_type": "code",
   "execution_count": 22,
   "metadata": {
    "ExecuteTime": {
     "end_time": "2018-09-04T06:13:27.087589Z",
     "start_time": "2018-09-04T06:13:26.870154Z"
    }
   },
   "outputs": [
    {
     "data": {
      "image/png": "[encoded data removed]",
      "text/plain": [
       "<Figure size 432x288 with 1 Axes>"
      ]
     },
     "metadata": {},
     "output_type": "display_data"
    }
   ],
   "source": [
    "#Function to plot Misclassification error against C\n",
    "def error_vs_c(gscv):\n",
    "    x1=[]\n",
    "    y1=[]\n",
    "    x2=[]\n",
    "    y2=[]\n",
    "    for a in gscv.grid_scores_:\n",
    "        if (a[0]['penalty']) == 'l1':\n",
    "            y1.append(1-a[1])\n",
    "            x1.append(a[0]['C'])\n",
    "        else:\n",
    "            y2.append(1-a[1])\n",
    "            x2.append(a[0]['C'])\n",
    "\n",
    "    ind1 = np.argsort(x1)\n",
    "    x1=np.array(x1)\n",
    "    y1=np.array(y1)\n",
    "    ind2 = np.argsort(x2)\n",
    "    x2=np.array(x2)\n",
    "    y2=np.array(y2)\n",
    "    plt.xlim(-10,1010)\n",
    "    plt.ylim(0,0.2)\n",
    "    plt.xlabel(\"C\",fontsize=15)\n",
    "    plt.ylabel(\"Misclassification Error\")\n",
    "    plt.title('Misclassification Error v/s C for RandomSearch')\n",
    "    plt.plot(x1[ind1],y1[ind1],'g',label=\"L1\")\n",
    "    plt.plot(x2[ind2],y2[ind2],'r',label=\"L2\")\n",
    "    plt.legend()\n",
    "    plt.show()\n",
    "gscv = OpenFromFile(\"LR_RandomSearch-Uni-Gram\")\n",
    "error_vs_c(gscv)"
   ]
  },
  {
   "cell_type": "code",
   "execution_count": 23,
   "metadata": {
    "ExecuteTime": {
     "end_time": "2018-09-04T06:13:48.904541Z",
     "start_time": "2018-09-04T06:13:48.899917Z"
    }
   },
   "outputs": [
    {
     "name": "stdout",
     "output_type": "stream",
     "text": [
      "LogisticRegression(C=10, class_weight=None, dual=False, fit_intercept=True,\n",
      "          intercept_scaling=1, max_iter=100, multi_class='ovr', n_jobs=1,\n",
      "          penalty='l2', random_state=None, solver='liblinear', tol=0.0001,\n",
      "          verbose=0, warm_start=False)\n"
     ]
    }
   ],
   "source": [
    "print(gscv.best_estimator_)"
   ]
  },
  {
   "cell_type": "code",
   "execution_count": 24,
   "metadata": {
    "ExecuteTime": {
     "end_time": "2018-09-04T06:14:06.387346Z",
     "start_time": "2018-09-04T06:14:02.624333Z"
    }
   },
   "outputs": [
    {
     "name": "stdout",
     "output_type": "stream",
     "text": [
      "Accuracy on test set: 91.453%\n",
      "Precision on test set: 0.930\n",
      "Recall on test set: 0.969\n",
      "F1-Score on test set: 0.949\n",
      "Non Zero weights: 32007\n"
     ]
    },
    {
     "data": {
      "text/plain": [
       "<matplotlib.axes._subplots.AxesSubplot at 0x217a8475e48>"
      ]
     },
     "execution_count": 24,
     "metadata": {},
     "output_type": "execute_result"
    },
    {
     "data": {
      "image/png": "[encoded data removed]",
      "text/plain": [
       "<Figure size 432x288 with 2 Axes>"
      ]
     },
     "metadata": {},
     "output_type": "display_data"
    }
   ],
   "source": [
    "# test on best C value and penality l2 with random search \n",
    "# testing accuracy on the best_estimator\n",
    "lr = LogisticRegression(C=10,penalty='l2')\n",
    "lr.fit(X_train,y_train)\n",
    "y_pred = lr.predict(X_test)\n",
    "print(\"Accuracy on test set: %0.3f%%\"%(accuracy_score(y_test, y_pred)*100))\n",
    "print(\"Precision on test set: %0.3f\"%(precision_score(y_test, y_pred)))\n",
    "print(\"Recall on test set: %0.3f\"%(recall_score(y_test, y_pred)))\n",
    "print(\"F1-Score on test set: %0.3f\"%(f1_score(y_test, y_pred)))\n",
    "print(\"Non Zero weights:\",np.count_nonzero(lr.coef_))\n",
    "df_cm = pd.DataFrame(confusion_matrix(y_test, y_pred), range(2),range(2))\n",
    "sns.set(font_scale=1.4)#for label size\n",
    "sns.heatmap(df_cm, annot=True,annot_kws={\"size\": 16}, fmt='g')"
   ]
  },
  {
   "cell_type": "markdown",
   "metadata": {},
   "source": [
    "### Perturbation Test"
   ]
  },
  {
   "cell_type": "code",
   "execution_count": 25,
   "metadata": {
    "ExecuteTime": {
     "end_time": "2018-09-04T06:14:16.018497Z",
     "start_time": "2018-09-04T06:14:12.561145Z"
    }
   },
   "outputs": [
    {
     "name": "stdout",
     "output_type": "stream",
     "text": [
      "Accuracy on test set: 91.453%\n",
      "Non Zero weights: 32007\n"
     ]
    }
   ],
   "source": [
    "lr = LogisticRegression(C= 10, penalty= 'l2')\n",
    "lr.fit(X_train,y_train)\n",
    "y_pred = lr.predict(X_test)\n",
    "print(\"Accuracy on test set: %0.3f%%\"%(accuracy_score(y_test, y_pred)*100))\n",
    "print(\"Non Zero weights:\",np.count_nonzero(lr.coef_))"
   ]
  },
  {
   "cell_type": "code",
   "execution_count": 26,
   "metadata": {
    "ExecuteTime": {
     "end_time": "2018-09-04T06:14:18.840555Z",
     "start_time": "2018-09-04T06:14:18.833597Z"
    }
   },
   "outputs": [
    {
     "name": "stdout",
     "output_type": "stream",
     "text": [
      "[ 2.96212579e-01  9.57535270e-04  2.42380144e-02  1.58068050e-02\n",
      "  1.58068050e-02  3.29885095e-02  4.80637912e-02  3.56007373e-02\n",
      "  6.77553534e-02  3.95865703e-03  5.06581547e-02  3.40974155e-02\n",
      "  2.62866285e-02 -4.82073684e-01  1.44194742e-03  1.90194527e-03\n",
      "  9.41929903e-02  6.82898639e-02  4.53883755e-03  2.82408275e-02\n",
      "  6.72783824e-02  3.31224775e-01  7.53202088e-02  1.22980124e-01\n",
      " -1.01862563e+00  3.89753643e-04  2.45664893e-01 -1.70724627e+00\n",
      "  2.16257201e-03 -5.93525367e-01  1.73812146e-01 -1.17752736e-01\n",
      "  2.54015244e-02  6.34881227e-03  2.25092342e-02 -6.68859709e-01\n",
      "  3.07299280e-02  1.99124992e-01 -1.10714917e+00  8.32286618e-05\n",
      "  1.92323294e-01  1.52568028e-03  1.07536582e-02  3.24279278e-01\n",
      " -5.67856854e-02  3.32666312e-02  1.87183007e-01  1.84378073e-01\n",
      "  1.62566649e-01  1.40525845e+00]\n"
     ]
    }
   ],
   "source": [
    "from scipy.sparse import find\n",
    "#Weights before adding random noise\n",
    "weights1 = find(lr.coef_[0])[2]\n",
    "print(weights1[:50])"
   ]
  },
  {
   "cell_type": "code",
   "execution_count": 27,
   "metadata": {
    "ExecuteTime": {
     "end_time": "2018-09-04T06:14:23.093705Z",
     "start_time": "2018-09-04T06:14:21.014628Z"
    }
   },
   "outputs": [],
   "source": [
    "X_train_t = X_train\n",
    "#Random noise\n",
    "epsilon = np.random.uniform(low=-0.0001, high=0.0001, size=(find(X_train_t)[0].size,))\n",
    "#Getting the postions(row and column) and value of non-zero datapoints \n",
    "a,b,c = find(X_train_t)\n",
    "\n",
    "#Introducing random noise to non-zero datapoints\n",
    "X_train_t[a,b] = epsilon + X_train_t[a,b]"
   ]
  },
  {
   "cell_type": "code",
   "execution_count": 28,
   "metadata": {
    "ExecuteTime": {
     "end_time": "2018-09-04T06:14:30.044675Z",
     "start_time": "2018-09-04T06:14:26.897121Z"
    }
   },
   "outputs": [
    {
     "name": "stdout",
     "output_type": "stream",
     "text": [
      "Accuracy on test set: 91.450%\n",
      "Non Zero weights: 32007\n"
     ]
    }
   ],
   "source": [
    "lr = LogisticRegression(C= 10, penalty= 'l2')\n",
    "lr.fit(X_train_t,y_train)\n",
    "y_pred = lr.predict(X_test)\n",
    "print(\"Accuracy on test set: %0.3f%%\"%(accuracy_score(y_test, y_pred)*100))\n",
    "print(\"Non Zero weights:\",np.count_nonzero(lr.coef_))"
   ]
  },
  {
   "cell_type": "code",
   "execution_count": 29,
   "metadata": {
    "ExecuteTime": {
     "end_time": "2018-09-04T06:14:34.358330Z",
     "start_time": "2018-09-04T06:14:34.352376Z"
    }
   },
   "outputs": [
    {
     "name": "stdout",
     "output_type": "stream",
     "text": [
      "[ 2.95685775e-01  9.62550865e-04  2.43332606e-02  1.58727716e-02\n",
      "  1.57977882e-02  3.31158324e-02  4.82320560e-02  3.60225834e-02\n",
      "  6.68331551e-02  4.07966401e-03  5.03680439e-02  3.42918480e-02\n",
      "  2.64442737e-02 -4.81968283e-01  1.45629582e-03  1.91288014e-03\n",
      "  9.33173721e-02  6.78954542e-02  4.54684464e-03  2.82294647e-02\n",
      "  6.72869697e-02  3.29823632e-01  7.52806314e-02  1.23414236e-01\n",
      " -1.01380553e+00  3.91831683e-04  2.45359906e-01 -1.70880504e+00\n",
      "  2.17402384e-03 -5.91883790e-01  1.72680108e-01 -1.18037812e-01\n",
      "  2.52987793e-02  6.31834046e-03  2.30326004e-02 -6.71269741e-01\n",
      "  3.07022740e-02  1.98145135e-01 -1.10761479e+00  8.54898638e-05\n",
      "  1.92227640e-01  1.52992326e-03  1.08248089e-02  3.22494551e-01\n",
      " -5.71331990e-02  3.34091629e-02  1.86688546e-01  1.85963562e-01\n",
      "  1.61492828e-01  1.40558436e+00]\n"
     ]
    }
   ],
   "source": [
    "from scipy.sparse import find\n",
    "#Weights after adding random noise\n",
    "weights2 = find(lr.coef_[0])[2]\n",
    "print(weights2[:50])"
   ]
  },
  {
   "cell_type": "code",
   "execution_count": 30,
   "metadata": {
    "ExecuteTime": {
     "end_time": "2018-09-04T06:14:38.550491Z",
     "start_time": "2018-09-04T06:14:38.532512Z"
    }
   },
   "outputs": [],
   "source": [
    "weights_diff = (abs(weights1 - weights2)/weights1) * 100"
   ]
  },
  {
   "cell_type": "code",
   "execution_count": 31,
   "metadata": {
    "ExecuteTime": {
     "end_time": "2018-09-04T06:14:39.584679Z",
     "start_time": "2018-09-04T06:14:39.580574Z"
    }
   },
   "outputs": [
    {
     "name": "stdout",
     "output_type": "stream",
     "text": [
      "25\n"
     ]
    }
   ],
   "source": [
    "print(weights_diff[np.where(weights_diff > 30)].size)"
   ]
  },
  {
   "cell_type": "code",
   "execution_count": 32,
   "metadata": {
    "ExecuteTime": {
     "end_time": "2018-09-04T06:14:48.765355Z",
     "start_time": "2018-09-04T06:14:48.658917Z"
    }
   },
   "outputs": [
    {
     "name": "stdout",
     "output_type": "stream",
     "text": [
      "\t\t\tPositive\t\t\t\t\t\tNegative\n",
      "________________________________________________________________________________________________\n",
      "\t-14.8991\tworst          \t\t\t\t9.0632\tfantast        \n",
      "\t-10.5450\thorribl        \t\t\t\t8.9773\tskeptic        \n",
      "\t-10.3726\taw             \t\t\t\t8.9537\tdelici         \n",
      "\t-10.2630\tyuck           \t\t\t\t8.8822\tperfect        \n",
      "\t-9.7691\tterribl        \t\t\t\t8.5154\tyummi          \n",
      "\t-9.4868\tconcept        \t\t\t\t8.4581\texcel          \n",
      "\t-9.3755\tdisappoint     \t\t\t\t8.2495\tawesom         \n",
      "\t-9.3582\tthrew          \t\t\t\t7.7924\tbest           \n",
      "\t-9.2626\tgross          \t\t\t\t7.7755\tamaz           \n",
      "\t-8.8382\treturn         \t\t\t\t7.7155\tworri          \n",
      "\t-8.8071\tbland          \t\t\t\t7.4583\tbeat           \n",
      "\t-8.7702\tundrink        \t\t\t\t7.4573\tgreat          \n",
      "\t-8.7697\tunpleas        \t\t\t\t7.4441\tyum            \n",
      "\t-8.3746\tdisgust        \t\t\t\t7.3042\tafford         \n",
      "\t-8.3418\tuseless        \t\t\t\t7.3026\tsatisfi        \n",
      "\t-8.3393\tsorri          \t\t\t\t7.1397\tterrif         \n",
      "\t-8.1469\tined           \t\t\t\t7.1161\taddict         \n",
      "\t-8.0222\tstale          \t\t\t\t6.7522\tprompt         \n",
      "\t-7.9539\ttasteless      \t\t\t\t6.6089\tbalanc         \n",
      "\t-7.6933\tcancel         \t\t\t\t6.5408\tfabul          \n",
      "\t-7.4594\tfail           \t\t\t\t6.3819\thook           \n",
      "\t-7.4469\tweak           \t\t\t\t6.1948\tthank          \n",
      "\t-7.2150\tworthless      \t\t\t\t6.1605\tglad           \n",
      "\t-7.1246\trip            \t\t\t\t6.0927\tafternoon      \n",
      "\t-6.9571\tmislead        \t\t\t\t6.0767\tfavorit        \n"
     ]
    }
   ],
   "source": [
    "def show_most_informative_features(vectorizer, clf, n=25):\n",
    "    feature_names = vectorizer.get_feature_names()\n",
    "    coefs_with_fns = sorted(zip(clf.coef_[0], feature_names))\n",
    "    top = zip(coefs_with_fns[:n], coefs_with_fns[:-(n + 1):-1])\n",
    "    print(\"\\t\\t\\tPositive\\t\\t\\t\\t\\t\\tNegative\")\n",
    "    print(\"________________________________________________________________________________________________\")\n",
    "    for (coef_1, fn_1), (coef_2, fn_2) in top:\n",
    "        print(\"\\t%.4f\\t%-15s\\t\\t\\t\\t%.4f\\t%-15s\" % (coef_1, fn_1, coef_2, fn_2))\n",
    "        \n",
    "show_most_informative_features(uni_gram,lr)\n",
    "#Code Reference:https://stackoverflow.com/questions/11116697/how-to-get-most-informative-features-for-scikit-learn-classifiers"
   ]
  },
  {
   "cell_type": "markdown",
   "metadata": {},
   "source": [
    "### Logistic Regression GridSearch for Bi-garm"
   ]
  },
  {
   "cell_type": "code",
   "execution_count": 106,
   "metadata": {
    "ExecuteTime": {
     "end_time": "2018-09-04T09:54:47.572474Z",
     "start_time": "2018-09-04T09:54:33.952623Z"
    }
   },
   "outputs": [
    {
     "name": "stdout",
     "output_type": "stream",
     "text": [
      "Train Data Size:  (70000, 981369)\n",
      "Test Data Size:  (30000, 981369)\n"
     ]
    }
   ],
   "source": [
    "X_train,X_test,y_train,y_test = train_test_split(X,y,test_size=0.3,shuffle=False)\n",
    "bi_gram = CountVectorizer(ngram_range=(1,2))\n",
    "X_train = bi_gram.fit_transform(X_train)\n",
    "\n",
    "# normalize the data\n",
    "X_train = preprocessing.normalize(X_train)\n",
    "print(\"Train Data Size: \",X_train.shape)\n",
    "X_test = bi_gram.transform(X_test)\n",
    "#Normalize Data\n",
    "X_test = preprocessing.normalize(X_test)\n",
    "print(\"Test Data Size: \",X_test.shape)"
   ]
  },
  {
   "cell_type": "code",
   "execution_count": 107,
   "metadata": {
    "ExecuteTime": {
     "end_time": "2018-09-04T10:13:37.343129Z",
     "start_time": "2018-09-04T09:55:37.305220Z"
    }
   },
   "outputs": [
    {
     "name": "stdout",
     "output_type": "stream",
     "text": [
      "Fitting 10 folds for each of 30 candidates, totalling 300 fits\n"
     ]
    },
    {
     "name": "stderr",
     "output_type": "stream",
     "text": [
      "[Parallel(n_jobs=1)]: Done 300 out of 300 | elapsed: 17.7min finished\n"
     ]
    },
    {
     "name": "stdout",
     "output_type": "stream",
     "text": [
      "Best HyperParameter:  {'C': 1000, 'penalty': 'l2'}\n",
      "Best Accuracy: 91.96%\n"
     ]
    }
   ],
   "source": [
    "lr = LogisticRegression()\n",
    "#params we need to try on classifier\n",
    "param_grid = {'C':[1000,500,100,50,10,5,1,0.5,0.1,0.05,0.01,0.005,0.001,0.0005,0.0001],'penalty':['l1','l2']} \n",
    "tscv = TimeSeriesSplit(n_splits=10) #For time based splitting\n",
    "gscv = GridSearchCV(lr,param_grid,cv=tscv,verbose=1)\n",
    "gscv.fit(X_train,y_train)\n",
    "SaveToFile(gscv,\"LR-GridSearch-Bi-gram\")\n",
    "print(\"Best HyperParameter: \",gscv.best_params_)\n",
    "print(\"Best Accuracy: %.2f%%\"%(gscv.best_score_*100))"
   ]
  },
  {
   "cell_type": "code",
   "execution_count": 108,
   "metadata": {
    "ExecuteTime": {
     "end_time": "2018-09-04T10:14:15.246295Z",
     "start_time": "2018-09-04T10:14:15.241308Z"
    }
   },
   "outputs": [
    {
     "name": "stdout",
     "output_type": "stream",
     "text": [
      "LogisticRegression(C=1000, class_weight=None, dual=False, fit_intercept=True,\n",
      "          intercept_scaling=1, max_iter=100, multi_class='ovr', n_jobs=1,\n",
      "          penalty='l2', random_state=None, solver='liblinear', tol=0.0001,\n",
      "          verbose=0, warm_start=False)\n"
     ]
    }
   ],
   "source": [
    "print(gscv.best_estimator_)"
   ]
  },
  {
   "cell_type": "code",
   "execution_count": 109,
   "metadata": {
    "ExecuteTime": {
     "end_time": "2018-09-04T10:14:19.701616Z",
     "start_time": "2018-09-04T10:14:19.697656Z"
    }
   },
   "outputs": [
    {
     "name": "stdout",
     "output_type": "stream",
     "text": [
      "1\n"
     ]
    }
   ],
   "source": [
    "print(gscv.best_index_)"
   ]
  },
  {
   "cell_type": "code",
   "execution_count": 110,
   "metadata": {
    "ExecuteTime": {
     "end_time": "2018-09-04T10:14:26.974489Z",
     "start_time": "2018-09-04T10:14:26.805054Z"
    }
   },
   "outputs": [
    {
     "data": {
      "image/png": "[encoded data removed]",
      "text/plain": [
       "<Figure size 432x288 with 1 Axes>"
      ]
     },
     "metadata": {},
     "output_type": "display_data"
    }
   ],
   "source": [
    "# plotting of L1 and L2 error\n",
    "def error_vs_c(gsv):\n",
    "    x1=[]\n",
    "    y1=[]\n",
    "    x2=[]\n",
    "    y2=[]\n",
    "    for a in gsv.grid_scores_:\n",
    "        if (a[0]['penalty']) == 'l1':\n",
    "            y1.append(1-a[1])\n",
    "            x1.append(a[0]['C'])\n",
    "        else:\n",
    "            y2.append(1-a[1])\n",
    "            x2.append(a[0]['C'])\n",
    "    plt.xlim(-10,1010)\n",
    "    plt.ylim(0,0.2)\n",
    "    plt.xlabel(\"C\",fontsize=15)\n",
    "    plt.ylabel(\"Misclassification Error\")\n",
    "    plt.title(' Error v/s C')\n",
    "    plt.plot(x1,y1,'g',label=\"L1\")\n",
    "    plt.plot(x2,y2,'r',label=\"L2\")\n",
    "    plt.legend()\n",
    "    plt.show()\n",
    "gscv = OpenFromFile(\"LR-GridSearch-Bi-gram\")\n",
    "error_vs_c(gscv)"
   ]
  },
  {
   "cell_type": "code",
   "execution_count": 111,
   "metadata": {
    "ExecuteTime": {
     "end_time": "2018-09-04T10:14:45.527727Z",
     "start_time": "2018-09-04T10:14:33.461556Z"
    }
   },
   "outputs": [
    {
     "name": "stdout",
     "output_type": "stream",
     "text": [
      "Accuracy on test set: 92.443%\n",
      "Precision on test set: 0.939\n",
      "Recall on test set: 0.972\n",
      "F1-Score on test set: 0.955\n",
      "Non Zero weights: 981369\n"
     ]
    },
    {
     "data": {
      "text/plain": [
       "<matplotlib.axes._subplots.AxesSubplot at 0x217cf55bdd8>"
      ]
     },
     "execution_count": 111,
     "metadata": {},
     "output_type": "execute_result"
    },
    {
     "data": {
      "image/png": "[encoded data removed]",
      "text/plain": [
       "<Figure size 432x288 with 2 Axes>"
      ]
     },
     "metadata": {},
     "output_type": "display_data"
    }
   ],
   "source": [
    "# testing accuracy on the best_estimator\n",
    "lr = LogisticRegression(C=1000,penalty='l2')\n",
    "lr.fit(X_train,y_train)\n",
    "y_pred = lr.predict(X_test)\n",
    "print(\"Accuracy on test set: %0.3f%%\"%(accuracy_score(y_test, y_pred)*100))\n",
    "print(\"Precision on test set: %0.3f\"%(precision_score(y_test, y_pred)))\n",
    "print(\"Recall on test set: %0.3f\"%(recall_score(y_test, y_pred)))\n",
    "print(\"F1-Score on test set: %0.3f\"%(f1_score(y_test, y_pred)))\n",
    "print(\"Non Zero weights:\",np.count_nonzero(lr.coef_))\n",
    "df_cm = pd.DataFrame(confusion_matrix(y_test, y_pred), range(2),range(2))\n",
    "sns.set(font_scale=1.4)#for label size\n",
    "sns.heatmap(df_cm, annot=True,annot_kws={\"size\": 16}, fmt='g')"
   ]
  },
  {
   "cell_type": "markdown",
   "metadata": {},
   "source": [
    "### Show how sparsity increase as lambda increase (c=1/lambda)"
   ]
  },
  {
   "cell_type": "code",
   "execution_count": 112,
   "metadata": {
    "ExecuteTime": {
     "end_time": "2018-09-04T10:15:19.104039Z",
     "start_time": "2018-09-04T10:14:47.310796Z"
    }
   },
   "outputs": [
    {
     "name": "stdout",
     "output_type": "stream",
     "text": [
      "C_value is: 1000 and l1_value is: l1\n",
      "Accuracy on test set: 91.510%\n",
      "Non Zero weights: 16724\n",
      "----------------------------------------------------------------------------------------------------\n",
      "C_value is: 100 and l1_value is: l1\n",
      "Accuracy on test set: 91.380%\n",
      "Non Zero weights: 13024\n",
      "----------------------------------------------------------------------------------------------------\n",
      "C_value is: 10 and l1_value is: l1\n",
      "Accuracy on test set: 91.967%\n",
      "Non Zero weights: 8712\n",
      "----------------------------------------------------------------------------------------------------\n",
      "C_value is: 1 and l1_value is: l1\n",
      "Accuracy on test set: 91.450%\n",
      "Non Zero weights: 1034\n",
      "----------------------------------------------------------------------------------------------------\n",
      "C_value is: 0.1 and l1_value is: l1\n",
      "Accuracy on test set: 87.740%\n",
      "Non Zero weights: 167\n",
      "----------------------------------------------------------------------------------------------------\n",
      "C_value is: 0.01 and l1_value is: l1\n",
      "Accuracy on test set: 82.453%\n",
      "Non Zero weights: 8\n",
      "----------------------------------------------------------------------------------------------------\n",
      "C_value is: 0.001 and l1_value is: l1\n",
      "Accuracy on test set: 82.453%\n",
      "Non Zero weights: 0\n",
      "----------------------------------------------------------------------------------------------------\n",
      "C_value is: 0.0001 and l1_value is: l1\n",
      "Accuracy on test set: 82.453%\n",
      "Non Zero weights: 0\n",
      "----------------------------------------------------------------------------------------------------\n"
     ]
    }
   ],
   "source": [
    "### Show how sparsity increase as if we increase the value of C\n",
    "C_value = [1000,100,10,1,0.1,0.01,0.001,0.0001]\n",
    "l1_value = ['l1','l1','l1','l1','l1','l1','l1','l1']\n",
    "def sparsity_increase(i,j):\n",
    "    lr = LogisticRegression(C=i,penalty=j)\n",
    "    lr.fit(X_train,y_train)\n",
    "    y_pred = lr.predict(X_test)\n",
    "    print(\"C_value is: {} and l1_value is: {}\".format(i,j))\n",
    "    print(\"Accuracy on test set: %0.3f%%\"%(accuracy_score(y_test, y_pred)*100))\n",
    "    print(\"Non Zero weights:\",np.count_nonzero(lr.coef_))\n",
    "    print(\"-\"*100)\n",
    "\n",
    "\n",
    "for i,j in zip(C_value,l1_value):\n",
    "    sparsity_increase(i,j)"
   ]
  },
  {
   "cell_type": "markdown",
   "metadata": {},
   "source": [
    "We see that how sparsity increases as lambda increases or C value decreases. At C value 1000, numbers of non zeros weight was 16775 and at C value 0.0001 , numbers of non zeros weight is 0"
   ]
  },
  {
   "cell_type": "markdown",
   "metadata": {},
   "source": [
    "### Logistic Regression Random Search for Bi-garm"
   ]
  },
  {
   "cell_type": "code",
   "execution_count": 113,
   "metadata": {
    "ExecuteTime": {
     "end_time": "2018-09-04T10:20:16.609500Z",
     "start_time": "2018-09-04T10:15:46.615493Z"
    }
   },
   "outputs": [
    {
     "name": "stdout",
     "output_type": "stream",
     "text": [
      "Fitting 10 folds for each of 10 candidates, totalling 100 fits\n"
     ]
    },
    {
     "name": "stderr",
     "output_type": "stream",
     "text": [
      "[Parallel(n_jobs=1)]: Done 100 out of 100 | elapsed:  4.3min finished\n"
     ]
    },
    {
     "name": "stdout",
     "output_type": "stream",
     "text": [
      "Best HyperParameter:  {'penalty': 'l2', 'C': 10}\n",
      "Best Accuracy: 91.67%\n"
     ]
    }
   ],
   "source": [
    "lr = LogisticRegression()\n",
    "#params we need to try on classifier\n",
    "param_grid = {'C':[1000,500,100,50,10,5,1,0.5,0.1,0.05,0.01,0.005,0.001,0.0005,0.0001],'penalty':['l1','l2']} \n",
    "tscv = TimeSeriesSplit(n_splits=10) #For time based splitting\n",
    "gscv = RandomizedSearchCV(lr,param_grid,cv=tscv,verbose=1)\n",
    "gscv.fit(X_train,y_train)\n",
    "SaveToFile(gscv,\"LR-RandomSearch-Bi-gram\")\n",
    "print(\"Best HyperParameter: \",gscv.best_params_)\n",
    "print(\"Best Accuracy: %.2f%%\"%(gscv.best_score_*100))"
   ]
  },
  {
   "cell_type": "code",
   "execution_count": 114,
   "metadata": {
    "ExecuteTime": {
     "end_time": "2018-09-04T10:22:18.981997Z",
     "start_time": "2018-09-04T10:22:18.977003Z"
    }
   },
   "outputs": [
    {
     "name": "stdout",
     "output_type": "stream",
     "text": [
      "LogisticRegression(C=10, class_weight=None, dual=False, fit_intercept=True,\n",
      "          intercept_scaling=1, max_iter=100, multi_class='ovr', n_jobs=1,\n",
      "          penalty='l2', random_state=None, solver='liblinear', tol=0.0001,\n",
      "          verbose=0, warm_start=False)\n"
     ]
    }
   ],
   "source": [
    "print(gscv.best_estimator_)"
   ]
  },
  {
   "cell_type": "code",
   "execution_count": 115,
   "metadata": {
    "ExecuteTime": {
     "end_time": "2018-09-04T10:22:19.949009Z",
     "start_time": "2018-09-04T10:22:19.945046Z"
    }
   },
   "outputs": [
    {
     "name": "stdout",
     "output_type": "stream",
     "text": [
      "0\n"
     ]
    }
   ],
   "source": [
    "print(gscv.best_index_)"
   ]
  },
  {
   "cell_type": "code",
   "execution_count": 116,
   "metadata": {
    "ExecuteTime": {
     "end_time": "2018-09-04T10:22:23.509073Z",
     "start_time": "2018-09-04T10:22:23.384434Z"
    }
   },
   "outputs": [
    {
     "data": {
      "image/png": "[encoded data removed]",
      "text/plain": [
       "<Figure size 432x288 with 1 Axes>"
      ]
     },
     "metadata": {},
     "output_type": "display_data"
    }
   ],
   "source": [
    "# plotting of L1 and L2 error\n",
    "gscv = OpenFromFile(\"LR-RandomSearch-Bi-gram\")\n",
    "error_vs_c(gscv)"
   ]
  },
  {
   "cell_type": "code",
   "execution_count": 117,
   "metadata": {
    "ExecuteTime": {
     "end_time": "2018-09-04T10:23:43.554806Z",
     "start_time": "2018-09-04T10:23:33.812856Z"
    }
   },
   "outputs": [
    {
     "name": "stdout",
     "output_type": "stream",
     "text": [
      "Accuracy on test set: 92.140%\n",
      "Precision on test set: 0.933\n",
      "Recall on test set: 0.975\n",
      "F1-Score on test set: 0.953\n",
      "Non Zero weights: 981369\n"
     ]
    },
    {
     "data": {
      "text/plain": [
       "<matplotlib.axes._subplots.AxesSubplot at 0x2179d0daa20>"
      ]
     },
     "execution_count": 117,
     "metadata": {},
     "output_type": "execute_result"
    },
    {
     "data": {
      "image/png": "[encoded data removed]",
      "text/plain": [
       "<Figure size 432x288 with 2 Axes>"
      ]
     },
     "metadata": {},
     "output_type": "display_data"
    }
   ],
   "source": [
    "# testing accuracy on the best_estimator\n",
    "lr = LogisticRegression(C=10,penalty='l2')\n",
    "lr.fit(X_train,y_train)\n",
    "y_pred = lr.predict(X_test)\n",
    "print(\"Accuracy on test set: %0.3f%%\"%(accuracy_score(y_test, y_pred)*100))\n",
    "print(\"Precision on test set: %0.3f\"%(precision_score(y_test, y_pred)))\n",
    "print(\"Recall on test set: %0.3f\"%(recall_score(y_test, y_pred)))\n",
    "print(\"F1-Score on test set: %0.3f\"%(f1_score(y_test, y_pred)))\n",
    "print(\"Non Zero weights:\",np.count_nonzero(lr.coef_))\n",
    "df_cm = pd.DataFrame(confusion_matrix(y_test, y_pred), range(2),range(2))\n",
    "sns.set(font_scale=1.4)#for label size\n",
    "sns.heatmap(df_cm, annot=True,annot_kws={\"size\": 16}, fmt='g')"
   ]
  },
  {
   "cell_type": "markdown",
   "metadata": {},
   "source": [
    "### Perturbation Test"
   ]
  },
  {
   "cell_type": "code",
   "execution_count": 118,
   "metadata": {
    "ExecuteTime": {
     "end_time": "2018-09-04T10:24:46.014767Z",
     "start_time": "2018-09-04T10:24:29.461163Z"
    }
   },
   "outputs": [
    {
     "name": "stdout",
     "output_type": "stream",
     "text": [
      "Accuracy on test set: 92.430%\n",
      "Non Zero weights: 981369\n"
     ]
    }
   ],
   "source": [
    "lr = LogisticRegression(C= 500, penalty= 'l2')\n",
    "lr.fit(X_train,y_train)\n",
    "y_pred = lr.predict(X_test)\n",
    "print(\"Accuracy on test set: %0.3f%%\"%(accuracy_score(y_test, y_pred)*100))\n",
    "print(\"Non Zero weights:\",np.count_nonzero(lr.coef_))"
   ]
  },
  {
   "cell_type": "code",
   "execution_count": 119,
   "metadata": {
    "ExecuteTime": {
     "end_time": "2018-09-04T10:24:55.534733Z",
     "start_time": "2018-09-04T10:24:55.471827Z"
    }
   },
   "outputs": [
    {
     "name": "stdout",
     "output_type": "stream",
     "text": [
      "[ 5.11036748e-01  7.55569801e-03  5.03481050e-01  2.72875646e-04\n",
      "  8.34972367e-03  8.34972367e-03  1.99039216e-02  1.99039216e-02\n",
      "  1.99039216e-02  1.99039216e-02  6.22769967e-02  6.22769967e-02\n",
      "  9.06248720e-03  9.06248720e-03  1.23034164e-01  1.23034164e-01\n",
      "  9.72156012e-02  9.72156012e-02  2.54955872e-03  2.54955872e-03\n",
      "  2.20643217e-02  2.20643217e-02  2.18189192e-01  2.18189192e-01\n",
      "  3.28712877e-02  3.28712877e-02 -4.75639548e-01 -4.75639548e-01\n",
      "  3.83171074e-04  3.83171074e-04  1.48276476e-03  4.58025119e-02\n",
      "  2.91288060e-02  1.34251756e-02  3.24853026e-03  7.13400063e-01\n",
      "  7.13400063e-01  7.50330850e-03  7.50330850e-03  2.17871001e-02\n",
      "  2.17871001e-02  1.03263097e-01  1.03263097e-01  6.22169799e-01\n",
      "  6.22169799e-01  3.44535060e-01  3.44535060e-01  5.34307414e-01\n",
      "  5.34307414e-01 -1.02821554e+00]\n"
     ]
    }
   ],
   "source": [
    "from scipy.sparse import find\n",
    "#Weights before adding random noise\n",
    "weights1 = find(lr.coef_[0])[2]\n",
    "print(weights1[:50])"
   ]
  },
  {
   "cell_type": "code",
   "execution_count": 120,
   "metadata": {
    "ExecuteTime": {
     "end_time": "2018-09-04T10:25:01.637206Z",
     "start_time": "2018-09-04T10:24:58.683106Z"
    }
   },
   "outputs": [],
   "source": [
    "X_train_t = X_train\n",
    "#Random noise\n",
    "epsilon = np.random.uniform(low=-0.0001, high=0.0001, size=(find(X_train_t)[0].size,))\n",
    "#Getting the postions(row and column) and value of non-zero datapoints \n",
    "a,b,c = find(X_train_t)\n",
    "\n",
    "#Introducing random noise to non-zero datapoints\n",
    "X_train_t[a,b] = epsilon + X_train_t[a,b]"
   ]
  },
  {
   "cell_type": "code",
   "execution_count": 121,
   "metadata": {
    "ExecuteTime": {
     "end_time": "2018-09-04T10:25:18.510657Z",
     "start_time": "2018-09-04T10:25:11.005481Z"
    }
   },
   "outputs": [
    {
     "name": "stdout",
     "output_type": "stream",
     "text": [
      "Accuracy on test set: 92.153%\n",
      "Non Zero weights: 981369\n"
     ]
    }
   ],
   "source": [
    "lr = LogisticRegression(C= 10, penalty= 'l2')\n",
    "lr.fit(X_train_t,y_train)\n",
    "y_pred = lr.predict(X_test)\n",
    "print(\"Accuracy on test set: %0.3f%%\"%(accuracy_score(y_test, y_pred)*100))\n",
    "print(\"Non Zero weights:\",np.count_nonzero(lr.coef_))"
   ]
  },
  {
   "cell_type": "code",
   "execution_count": 122,
   "metadata": {
    "ExecuteTime": {
     "end_time": "2018-09-04T10:25:22.271017Z",
     "start_time": "2018-09-04T10:25:22.205215Z"
    }
   },
   "outputs": [
    {
     "name": "stdout",
     "output_type": "stream",
     "text": [
      "[ 0.18805666  0.00635642  0.18147036  0.00051698  0.01407884  0.01407897\n",
      "  0.00726661  0.00724006  0.00726623  0.00724382  0.02583405  0.02584154\n",
      "  0.01370867  0.01369844  0.04445319  0.04438057  0.02896293  0.02897035\n",
      "  0.00435272  0.00434892  0.01555251  0.01553862  0.05425905  0.05421807\n",
      "  0.02324474  0.02321948 -0.14760349 -0.14778084  0.000785    0.00078484\n",
      "  0.0026047   0.04039721  0.02407073  0.01241171  0.00388742  0.1039134\n",
      "  0.10391917  0.0060061   0.00599994  0.02040731  0.02041769  0.0422133\n",
      "  0.0421522   0.15970133  0.15986977  0.08787805  0.08780849  0.11639891\n",
      "  0.11615973 -0.35095218]\n"
     ]
    }
   ],
   "source": [
    "from scipy.sparse import find\n",
    "#Weights after adding random noise\n",
    "weights2 = find(lr.coef_[0])[2]\n",
    "print(weights2[:50])"
   ]
  },
  {
   "cell_type": "code",
   "execution_count": 123,
   "metadata": {
    "ExecuteTime": {
     "end_time": "2018-09-04T10:25:23.292303Z",
     "start_time": "2018-09-04T10:25:23.263758Z"
    }
   },
   "outputs": [],
   "source": [
    "weights_diff = (abs(weights1 - weights2)/weights1) * 100"
   ]
  },
  {
   "cell_type": "code",
   "execution_count": 124,
   "metadata": {
    "ExecuteTime": {
     "end_time": "2018-09-04T10:25:25.709770Z",
     "start_time": "2018-09-04T10:25:25.692809Z"
    }
   },
   "outputs": [
    {
     "name": "stdout",
     "output_type": "stream",
     "text": [
      "619327\n"
     ]
    }
   ],
   "source": [
    "print(weights_diff[np.where(weights_diff > 30)].size)"
   ]
  },
  {
   "cell_type": "markdown",
   "metadata": {},
   "source": [
    "Features have multi-collinearity"
   ]
  },
  {
   "cell_type": "code",
   "execution_count": 125,
   "metadata": {
    "ExecuteTime": {
     "end_time": "2018-09-04T10:26:28.740898Z",
     "start_time": "2018-09-04T10:26:25.018822Z"
    }
   },
   "outputs": [
    {
     "name": "stdout",
     "output_type": "stream",
     "text": [
      "\t\t\tPositive\t\t\t\t\t\tNegative\n",
      "________________________________________________________________________________________________\n",
      "\t-15.1724\tworst          \t\t\t\t13.2376\thigh recommend \n",
      "\t-12.4820\tdisappoint     \t\t\t\t11.3251\tdelici         \n",
      "\t-11.7876\thorribl        \t\t\t\t10.8352\tperfect        \n",
      "\t-11.6279\tterribl        \t\t\t\t9.6624\texcel          \n",
      "\t-11.4562\taw             \t\t\t\t9.6360\tbest           \n",
      "\t-10.8600\treturn         \t\t\t\t9.4581\tfantast        \n",
      "\t-10.5031\tbland          \t\t\t\t9.3994\tyummi          \n",
      "\t-9.7729\tthrew          \t\t\t\t9.0435\tgreat          \n",
      "\t-9.5063\tyuck           \t\t\t\t8.9052\tawesom         \n",
      "\t-9.3534\tstale          \t\t\t\t8.8913\twont disappoint\n",
      "\t-9.3103\tsorri          \t\t\t\t8.8281\tamaz           \n",
      "\t-9.2795\tgross          \t\t\t\t8.3622\twell worth     \n",
      "\t-9.1056\tdisgust        \t\t\t\t7.9449\tsatisfi        \n",
      "\t-9.0771\tweak           \t\t\t\t7.8004\tskeptic        \n",
      "\t-8.5887\tunfortun       \t\t\t\t7.4586\ttasti          \n",
      "\t-8.5614\tunpleas        \t\t\t\t7.4274\tthank          \n",
      "\t-8.4335\twont buy       \t\t\t\t7.3742\tfavorit        \n",
      "\t-8.0656\ttasteless      \t\t\t\t7.3707\teven better    \n",
      "\t-8.0077\tnever buy      \t\t\t\t7.2330\taddict         \n",
      "\t-7.9797\ttwo star       \t\t\t\t7.0271\tyum            \n",
      "\t-7.7175\trip            \t\t\t\t6.8765\tnice           \n",
      "\t-7.5676\tcancel         \t\t\t\t6.8688\tworri          \n",
      "\t-7.5609\tnasti          \t\t\t\t6.8229\tlove           \n",
      "\t-7.1068\tpoor           \t\t\t\t6.7538\tcarri          \n",
      "\t-7.0742\twant like      \t\t\t\t6.7267\tglad           \n"
     ]
    }
   ],
   "source": [
    "def show_most_informative_features(vectorizer, clf, n=25):\n",
    "    feature_names = vectorizer.get_feature_names()\n",
    "    coefs_with_fns = sorted(zip(clf.coef_[0], feature_names))\n",
    "    top = zip(coefs_with_fns[:n], coefs_with_fns[:-(n + 1):-1])\n",
    "    print(\"\\t\\t\\tPositive\\t\\t\\t\\t\\t\\tNegative\")\n",
    "    print(\"________________________________________________________________________________________________\")\n",
    "    for (coef_1, fn_1), (coef_2, fn_2) in top:\n",
    "        print(\"\\t%.4f\\t%-15s\\t\\t\\t\\t%.4f\\t%-15s\" % (coef_1, fn_1, coef_2, fn_2))\n",
    "        \n",
    "show_most_informative_features(bi_gram,lr)\n",
    "#Code Reference:https://stackoverflow.com/questions/11116697/how-to-get-most-informative-features-for-scikit-learn-classifiers"
   ]
  },
  {
   "cell_type": "markdown",
   "metadata": {},
   "source": [
    "### Logistic Regression TF-IDF \n",
    "#### GridSearch"
   ]
  },
  {
   "cell_type": "code",
   "execution_count": 127,
   "metadata": {
    "ExecuteTime": {
     "end_time": "2018-09-04T10:31:48.276583Z",
     "start_time": "2018-09-04T10:31:33.850863Z"
    }
   },
   "outputs": [
    {
     "name": "stdout",
     "output_type": "stream",
     "text": [
      "Train Data Size:  (70000, 981369)\n",
      "Test Data Size:  (30000, 981369)\n"
     ]
    }
   ],
   "source": [
    "X = final_data_sample['CleanedText']\n",
    "y = final_data_sample['Score']\n",
    "\n",
    "X_train,X_test,y_train,y_test = train_test_split(X,y,test_size=0.3,shuffle=False)\n",
    "tfidf = TfidfVectorizer(ngram_range=(1,2))\n",
    "X_train = tfidf.fit_transform(X_train)\n",
    "\n",
    "#Normalize Data\n",
    "X_train = preprocessing.normalize(X_train)\n",
    "print(\"Train Data Size: \",X_train.shape)\n",
    "X_test = tfidf.transform(X_test)\n",
    "#Normalize Data\n",
    "X_test = preprocessing.normalize(X_test)\n",
    "print(\"Test Data Size: \",X_test.shape)"
   ]
  },
  {
   "cell_type": "code",
   "execution_count": 128,
   "metadata": {
    "ExecuteTime": {
     "end_time": "2018-09-04T10:50:56.360442Z",
     "start_time": "2018-09-04T10:35:31.131470Z"
    }
   },
   "outputs": [
    {
     "name": "stdout",
     "output_type": "stream",
     "text": [
      "Fitting 10 folds for each of 30 candidates, totalling 300 fits\n"
     ]
    },
    {
     "name": "stderr",
     "output_type": "stream",
     "text": [
      "[Parallel(n_jobs=1)]: Done 300 out of 300 | elapsed: 15.4min finished\n"
     ]
    },
    {
     "name": "stdout",
     "output_type": "stream",
     "text": [
      "Best HyperParameter:  {'C': 5, 'penalty': 'l1'}\n",
      "Best Accuracy: 91.79%\n"
     ]
    }
   ],
   "source": [
    "lr = LogisticRegression()\n",
    "#params we need to try on classifier\n",
    "param_grid = {'C':[1000,500,100,50,10,5,1,0.5,0.1,0.05,0.01,0.005,0.001,0.0005,0.0001],'penalty':['l1','l2']} \n",
    "tscv = TimeSeriesSplit(n_splits=10) #For time based splitting\n",
    "gscv = GridSearchCV(lr,param_grid,cv=tscv,verbose=1)\n",
    "gscv.fit(X_train,y_train)\n",
    "SaveToFile(gscv,\"LR-GridSearch-TF-IDF\")\n",
    "print(\"Best HyperParameter: \",gscv.best_params_)\n",
    "print(\"Best Accuracy: %.2f%%\"%(gscv.best_score_*100))"
   ]
  },
  {
   "cell_type": "code",
   "execution_count": 129,
   "metadata": {
    "ExecuteTime": {
     "end_time": "2018-09-04T10:54:07.101754Z",
     "start_time": "2018-09-04T10:54:06.966989Z"
    }
   },
   "outputs": [
    {
     "data": {
      "image/png": "[encoded data removed]",
      "text/plain": [
       "<Figure size 432x288 with 1 Axes>"
      ]
     },
     "metadata": {},
     "output_type": "display_data"
    }
   ],
   "source": [
    "gscv = OpenFromFile(\"LR-GridSearch-TF-IDF\")\n",
    "error_vs_c(gscv)"
   ]
  },
  {
   "cell_type": "code",
   "execution_count": 131,
   "metadata": {
    "ExecuteTime": {
     "end_time": "2018-09-04T10:55:45.038782Z",
     "start_time": "2018-09-04T10:55:45.034792Z"
    }
   },
   "outputs": [
    {
     "name": "stdout",
     "output_type": "stream",
     "text": [
      "LogisticRegression(C=5, class_weight=None, dual=False, fit_intercept=True,\n",
      "          intercept_scaling=1, max_iter=100, multi_class='ovr', n_jobs=1,\n",
      "          penalty='l1', random_state=None, solver='liblinear', tol=0.0001,\n",
      "          verbose=0, warm_start=False)\n"
     ]
    }
   ],
   "source": [
    "print(gscv.best_estimator_)"
   ]
  },
  {
   "cell_type": "code",
   "execution_count": 132,
   "metadata": {
    "ExecuteTime": {
     "end_time": "2018-09-04T10:56:04.156501Z",
     "start_time": "2018-09-04T10:56:04.152483Z"
    }
   },
   "outputs": [
    {
     "name": "stdout",
     "output_type": "stream",
     "text": [
      "10\n"
     ]
    }
   ],
   "source": [
    "print(gscv.best_index_)"
   ]
  },
  {
   "cell_type": "code",
   "execution_count": 134,
   "metadata": {
    "ExecuteTime": {
     "end_time": "2018-09-04T10:56:53.930377Z",
     "start_time": "2018-09-04T10:56:49.915086Z"
    }
   },
   "outputs": [
    {
     "name": "stdout",
     "output_type": "stream",
     "text": [
      "Accuracy on test set: 92.140%\n",
      "Precision on test set: 0.939\n",
      "Recall on test set: 0.967\n",
      "F1-Score on test set: 0.953\n",
      "Non Zero weights: 6477\n"
     ]
    },
    {
     "data": {
      "text/plain": [
       "<matplotlib.axes._subplots.AxesSubplot at 0x217a42b07b8>"
      ]
     },
     "execution_count": 134,
     "metadata": {},
     "output_type": "execute_result"
    },
    {
     "data": {
      "image/png": "[encoded data removed]",
      "text/plain": [
       "<Figure size 432x288 with 2 Axes>"
      ]
     },
     "metadata": {},
     "output_type": "display_data"
    }
   ],
   "source": [
    "lr = LogisticRegression(C= 5, penalty= 'l1')\n",
    "lr.fit(X_train,y_train)\n",
    "y_pred = lr.predict(X_test)\n",
    "print(\"Accuracy on test set: %0.3f%%\"%(accuracy_score(y_test, y_pred)*100))\n",
    "print(\"Precision on test set: %0.3f\"%(precision_score(y_test, y_pred)))\n",
    "print(\"Recall on test set: %0.3f\"%(recall_score(y_test, y_pred)))\n",
    "print(\"F1-Score on test set: %0.3f\"%(f1_score(y_test, y_pred)))\n",
    "print(\"Non Zero weights:\",np.count_nonzero(lr.coef_))\n",
    "df_cm = pd.DataFrame(confusion_matrix(y_test, y_pred), range(2),range(2))\n",
    "sns.set(font_scale=1.4)#for label size\n",
    "sns.heatmap(df_cm, annot=True,annot_kws={\"size\": 16}, fmt='g')"
   ]
  },
  {
   "cell_type": "markdown",
   "metadata": {},
   "source": [
    "Show how sparsity increases as we increase lambda or decrease C when L1 Regularizer is used"
   ]
  },
  {
   "cell_type": "code",
   "execution_count": 135,
   "metadata": {
    "ExecuteTime": {
     "end_time": "2018-09-04T11:23:39.603816Z",
     "start_time": "2018-09-04T11:22:58.133652Z"
    }
   },
   "outputs": [
    {
     "name": "stdout",
     "output_type": "stream",
     "text": [
      "C_value is: 1000 and l1_value is: l1\n",
      "Accuracy on test set: 91.787%\n",
      "Non Zero weights: 19779\n",
      "----------------------------------------------------------------------------------------------------\n",
      "C_value is: 100 and l1_value is: l1\n",
      "Accuracy on test set: 91.563%\n",
      "Non Zero weights: 14506\n",
      "----------------------------------------------------------------------------------------------------\n",
      "C_value is: 10 and l1_value is: l1\n",
      "Accuracy on test set: 91.980%\n",
      "Non Zero weights: 10168\n",
      "----------------------------------------------------------------------------------------------------\n",
      "C_value is: 1 and l1_value is: l1\n",
      "Accuracy on test set: 91.370%\n",
      "Non Zero weights: 945\n",
      "----------------------------------------------------------------------------------------------------\n",
      "C_value is: 0.1 and l1_value is: l1\n",
      "Accuracy on test set: 86.507%\n",
      "Non Zero weights: 101\n",
      "----------------------------------------------------------------------------------------------------\n",
      "C_value is: 0.01 and l1_value is: l1\n",
      "Accuracy on test set: 82.453%\n",
      "Non Zero weights: 0\n",
      "----------------------------------------------------------------------------------------------------\n",
      "C_value is: 0.001 and l1_value is: l1\n",
      "Accuracy on test set: 82.453%\n",
      "Non Zero weights: 0\n",
      "----------------------------------------------------------------------------------------------------\n",
      "C_value is: 0.0001 and l1_value is: l1\n",
      "Accuracy on test set: 82.453%\n",
      "Non Zero weights: 0\n",
      "----------------------------------------------------------------------------------------------------\n"
     ]
    }
   ],
   "source": [
    "### Show how sparsity increase as if we increase the value of C\n",
    "C_value = [1000,100,10,1,0.1,0.01,0.001,0.0001]\n",
    "l1_value = ['l1','l1','l1','l1','l1','l1','l1','l1']\n",
    "def sparsity_increase(i,j):\n",
    "    lr = LogisticRegression(C=i,penalty=j)\n",
    "    lr.fit(X_train,y_train)\n",
    "    y_pred = lr.predict(X_test)\n",
    "    print(\"C_value is: {} and l1_value is: {}\".format(i,j))\n",
    "    print(\"Accuracy on test set: %0.3f%%\"%(accuracy_score(y_test, y_pred)*100))\n",
    "    print(\"Non Zero weights:\",np.count_nonzero(lr.coef_))\n",
    "    print(\"-\"*100)\n",
    "\n",
    "\n",
    "for i,j in zip(C_value,l1_value):\n",
    "    sparsity_increase(i,j)"
   ]
  },
  {
   "cell_type": "markdown",
   "metadata": {},
   "source": [
    "As we see that @ C value is 1000 and numbers of non zeros weight is 19779 and @C value is 0.0001 and numbers of non zero weight is 0"
   ]
  },
  {
   "cell_type": "markdown",
   "metadata": {},
   "source": [
    "#### Random Search"
   ]
  },
  {
   "cell_type": "code",
   "execution_count": 137,
   "metadata": {
    "ExecuteTime": {
     "end_time": "2018-09-04T11:32:30.574455Z",
     "start_time": "2018-09-04T11:27:38.974729Z"
    }
   },
   "outputs": [
    {
     "name": "stdout",
     "output_type": "stream",
     "text": [
      "Fitting 10 folds for each of 10 candidates, totalling 100 fits\n"
     ]
    },
    {
     "name": "stderr",
     "output_type": "stream",
     "text": [
      "[Parallel(n_jobs=1)]: Done 100 out of 100 | elapsed:  4.7min finished\n"
     ]
    },
    {
     "name": "stdout",
     "output_type": "stream",
     "text": [
      "Best HyperParameter:  {'penalty': 'l1', 'C': 1000}\n",
      "Best Accuracy: 91.42%\n"
     ]
    }
   ],
   "source": [
    "lr = LogisticRegression()\n",
    "#params we need to try on classifier\n",
    "param_grid = {'C':[1000,500,100,50,10,5,1,0.5,0.1,0.05,0.01,0.005,0.001,0.0005,0.0001]\n",
    "              ,'penalty':['l1','l2']}\n",
    "tscv = TimeSeriesSplit(n_splits=10) #For time based splitting\n",
    "gscv = RandomizedSearchCV(lr,param_grid,cv=tscv,verbose=1)\n",
    "gscv.fit(X_train,y_train)\n",
    "SaveToFile(gscv,\"LR-RandomSearch-TF_IDF\")\n",
    "print(\"Best HyperParameter: \",gscv.best_params_)\n",
    "print(\"Best Accuracy: %.2f%%\"%(gscv.best_score_*100))"
   ]
  },
  {
   "cell_type": "code",
   "execution_count": 139,
   "metadata": {
    "ExecuteTime": {
     "end_time": "2018-09-04T11:34:58.858699Z",
     "start_time": "2018-09-04T11:34:58.246468Z"
    }
   },
   "outputs": [
    {
     "data": {
      "image/png": "[encoded data removed]",
      "text/plain": [
       "<Figure size 432x288 with 1 Axes>"
      ]
     },
     "metadata": {},
     "output_type": "display_data"
    }
   ],
   "source": [
    "gscv = OpenFromFile(\"LR-RandomSearch-TF_IDF\")\n",
    "error_vs_c(gscv)"
   ]
  },
  {
   "cell_type": "code",
   "execution_count": 140,
   "metadata": {
    "ExecuteTime": {
     "end_time": "2018-09-04T11:36:05.022808Z",
     "start_time": "2018-09-04T11:35:58.250898Z"
    }
   },
   "outputs": [
    {
     "name": "stdout",
     "output_type": "stream",
     "text": [
      "Accuracy on test set: 92.137%\n",
      "Precision on test set: 0.939\n",
      "Recall on test set: 0.967\n",
      "F1-Score on test set: 0.953\n",
      "Non Zero weights: 6475\n"
     ]
    },
    {
     "data": {
      "text/plain": [
       "<matplotlib.axes._subplots.AxesSubplot at 0x217b438e4e0>"
      ]
     },
     "execution_count": 140,
     "metadata": {},
     "output_type": "execute_result"
    },
    {
     "data": {
      "image/png": "[encoded data removed]",
      "text/plain": [
       "<Figure size 432x288 with 2 Axes>"
      ]
     },
     "metadata": {},
     "output_type": "display_data"
    }
   ],
   "source": [
    "#Testing Accuracy on Test data\n",
    "\n",
    "lr = LogisticRegression(C= 5, penalty= 'l1')\n",
    "lr.fit(X_train,y_train)\n",
    "y_pred = lr.predict(X_test)\n",
    "print(\"Accuracy on test set: %0.3f%%\"%(accuracy_score(y_test, y_pred)*100))\n",
    "print(\"Precision on test set: %0.3f\"%(precision_score(y_test, y_pred)))\n",
    "print(\"Recall on test set: %0.3f\"%(recall_score(y_test, y_pred)))\n",
    "print(\"F1-Score on test set: %0.3f\"%(f1_score(y_test, y_pred)))\n",
    "print(\"Non Zero weights:\",np.count_nonzero(lr.coef_))\n",
    "df_cm = pd.DataFrame(confusion_matrix(y_test, y_pred), range(2),range(2))\n",
    "sns.set(font_scale=1.4)#for label size\n",
    "sns.heatmap(df_cm, annot=True,annot_kws={\"size\": 16}, fmt='g')"
   ]
  },
  {
   "cell_type": "markdown",
   "metadata": {},
   "source": [
    "### Perturbation Test"
   ]
  },
  {
   "cell_type": "code",
   "execution_count": 141,
   "metadata": {
    "ExecuteTime": {
     "end_time": "2018-09-04T11:36:52.639398Z",
     "start_time": "2018-09-04T11:36:45.996933Z"
    }
   },
   "outputs": [
    {
     "name": "stdout",
     "output_type": "stream",
     "text": [
      "Accuracy on test set: 92.440%\n",
      "Non Zero weights: 981369\n"
     ]
    }
   ],
   "source": [
    "lr = LogisticRegression(C= 500, penalty= 'l2')\n",
    "lr.fit(X_train,y_train)\n",
    "y_pred = lr.predict(X_test)\n",
    "print(\"Accuracy on test set: %0.3f%%\"%(accuracy_score(y_test, y_pred)*100))\n",
    "print(\"Non Zero weights:\",np.count_nonzero(lr.coef_))"
   ]
  },
  {
   "cell_type": "code",
   "execution_count": 143,
   "metadata": {
    "ExecuteTime": {
     "end_time": "2018-09-04T11:37:12.148904Z",
     "start_time": "2018-09-04T11:37:12.080768Z"
    }
   },
   "outputs": [
    {
     "name": "stdout",
     "output_type": "stream",
     "text": [
      "[ 0.53486728  0.02340378  0.53107616  0.0042988   0.05965686  0.05965686\n",
      "  0.02568999  0.02568999  0.02568999  0.02568999  0.08785486  0.08785486\n",
      "  0.06020582  0.06020582  0.15687535  0.15687535  0.13368848  0.13368848\n",
      "  0.01856511  0.01856511  0.05115154  0.05115154  0.2155314   0.2155314\n",
      "  0.08561019  0.08561019 -0.52690557 -0.52690557  0.00365806  0.00365806\n",
      "  0.01205914  0.11226466  0.05345168  0.05326936  0.01276888  0.43066759\n",
      "  0.43066759  0.0192508   0.0192508   0.05278068  0.05278068  0.14589192\n",
      "  0.14589192  0.53564945  0.53564945  0.38315871  0.38315871  0.41078827\n",
      "  0.41078827 -1.0349017 ]\n"
     ]
    }
   ],
   "source": [
    "from scipy.sparse import find\n",
    "#Weights before adding random noise\n",
    "weights1 = find(lr.coef_[0])[2]\n",
    "print(weights1[:50])"
   ]
  },
  {
   "cell_type": "code",
   "execution_count": 144,
   "metadata": {
    "ExecuteTime": {
     "end_time": "2018-09-04T11:37:30.509771Z",
     "start_time": "2018-09-04T11:37:30.495808Z"
    }
   },
   "outputs": [
    {
     "name": "stdout",
     "output_type": "stream",
     "text": [
      "[-0.52690557 -0.52690557 -1.0349017  ... -0.0425448  -0.2192959\n",
      " -0.2192959 ]\n"
     ]
    }
   ],
   "source": [
    "print(weights1[weights1<=0.0001])"
   ]
  },
  {
   "cell_type": "code",
   "execution_count": 145,
   "metadata": {
    "ExecuteTime": {
     "end_time": "2018-09-04T11:37:53.545431Z",
     "start_time": "2018-09-04T11:37:45.961346Z"
    }
   },
   "outputs": [],
   "source": [
    "X_train_t = X_train\n",
    "#Random noise\n",
    "epsilon = np.random.uniform(low=-0.0001, high=0.0001, size=(find(X_train_t)[0].size,))\n",
    "#Getting the postions(row and column) and value of non-zero datapoints \n",
    "a,b,c = find(X_train_t)\n",
    "\n",
    "#Introducing random noise to non-zero datapoints\n",
    "X_train_t[a,b] = epsilon + X_train_t[a,b]"
   ]
  },
  {
   "cell_type": "code",
   "execution_count": 146,
   "metadata": {
    "ExecuteTime": {
     "end_time": "2018-09-04T11:38:19.970367Z",
     "start_time": "2018-09-04T11:38:13.539044Z"
    }
   },
   "outputs": [
    {
     "name": "stdout",
     "output_type": "stream",
     "text": [
      "Accuracy on test set: 92.143%\n",
      "Non Zero weights: 981369\n"
     ]
    }
   ],
   "source": [
    "lr = LogisticRegression(C= 10, penalty= 'l2')\n",
    "lr.fit(X_train_t,y_train)\n",
    "y_pred = lr.predict(X_test)\n",
    "print(\"Accuracy on test set: %0.3f%%\"%(accuracy_score(y_test, y_pred)*100))\n",
    "print(\"Non Zero weights:\",np.count_nonzero(lr.coef_))"
   ]
  },
  {
   "cell_type": "code",
   "execution_count": 147,
   "metadata": {
    "ExecuteTime": {
     "end_time": "2018-09-04T11:38:30.828161Z",
     "start_time": "2018-09-04T11:38:30.771314Z"
    }
   },
   "outputs": [
    {
     "name": "stdout",
     "output_type": "stream",
     "text": [
      "[ 0.2050128   0.01596972  0.19669839  0.00156978  0.03864591  0.03863218\n",
      "  0.01175323  0.0117591   0.01172295  0.01174183  0.03789038  0.03789981\n",
      "  0.03595117  0.03596792  0.05853326  0.05847618  0.04850828  0.04850634\n",
      "  0.01170702  0.01170548  0.02666991  0.02670707  0.08010733  0.08008843\n",
      "  0.04217526  0.04221496 -0.19253414 -0.19254626  0.00224388  0.00224603\n",
      "  0.00847719  0.06202143  0.02883859  0.02930408  0.00791387  0.10383394\n",
      "  0.10378071  0.01079695  0.01081118  0.03308313  0.0331062   0.0588015\n",
      "  0.05877098  0.1693144   0.16949776  0.12704444  0.12704722  0.11236033\n",
      "  0.1123204  -0.40177356]\n"
     ]
    }
   ],
   "source": [
    "from scipy.sparse import find\n",
    "#Weights after adding random noise\n",
    "weights2 = find(lr.coef_[0])[2]\n",
    "print(weights2[:50])"
   ]
  },
  {
   "cell_type": "code",
   "execution_count": 148,
   "metadata": {
    "ExecuteTime": {
     "end_time": "2018-09-04T11:38:44.101453Z",
     "start_time": "2018-09-04T11:38:44.074474Z"
    }
   },
   "outputs": [],
   "source": [
    "weights_diff = (abs(weights1 - weights2)/weights1) * 100"
   ]
  },
  {
   "cell_type": "code",
   "execution_count": 149,
   "metadata": {
    "ExecuteTime": {
     "end_time": "2018-09-04T11:38:53.211333Z",
     "start_time": "2018-09-04T11:38:53.194697Z"
    }
   },
   "outputs": [
    {
     "name": "stdout",
     "output_type": "stream",
     "text": [
      "749139\n"
     ]
    }
   ],
   "source": [
    "print(weights_diff[np.where(weights_diff > 30)].size)"
   ]
  },
  {
   "cell_type": "markdown",
   "metadata": {},
   "source": [
    "749139 feature have changes and greater than 30% ,So it have muti-collineraity"
   ]
  },
  {
   "cell_type": "code",
   "execution_count": 150,
   "metadata": {
    "ExecuteTime": {
     "end_time": "2018-09-04T11:41:00.656004Z",
     "start_time": "2018-09-04T11:40:53.968400Z"
    }
   },
   "outputs": [
    {
     "name": "stdout",
     "output_type": "stream",
     "text": [
      "\t\t\tPositive\t\t\t\t\t\tNegative\n",
      "________________________________________________________________________________________________\n",
      "\t-19.2317\tdisappoint     \t\t\t\t22.0388\tgreat          \n",
      "\t-15.7572\tworst          \t\t\t\t17.9332\tbest           \n",
      "\t-13.4390\treturn         \t\t\t\t17.7837\tlove           \n",
      "\t-12.9311\thorribl        \t\t\t\t17.1819\tdelici         \n",
      "\t-12.7544\tterribl        \t\t\t\t15.5350\tperfect        \n",
      "\t-12.4552\taw             \t\t\t\t12.9845\texcel          \n",
      "\t-11.1761\tbland          \t\t\t\t12.7804\thigh recommend \n",
      "\t-10.6048\tstale          \t\t\t\t11.4473\tfavorit        \n",
      "\t-10.3112\tthrew          \t\t\t\t11.0721\tnice           \n",
      "\t-10.1296\tunfortun       \t\t\t\t10.8774\tgood           \n",
      "\t-9.8717\tweak           \t\t\t\t10.2717\ttasti          \n",
      "\t-9.7072\tsorri          \t\t\t\t10.1976\tamaz           \n",
      "\t-9.1905\tdisgust        \t\t\t\t10.1400\tthank          \n",
      "\t-9.0719\tgross          \t\t\t\t9.8208\twonder         \n",
      "\t-9.0535\tyuck           \t\t\t\t9.7206\tyummi          \n",
      "\t-8.8522\twast           \t\t\t\t9.4254\tawesom         \n",
      "\t-8.7016\tbad            \t\t\t\t9.3304\tenjoy          \n",
      "\t-8.5946\tmayb           \t\t\t\t9.3220\tfantast        \n",
      "\t-8.5336\twont buy       \t\t\t\t9.0720\thappi          \n",
      "\t-8.4183\tunpleas        \t\t\t\t8.9352\teasi           \n",
      "\t-8.4151\tmoney          \t\t\t\t8.9342\tkeep           \n",
      "\t-8.0651\tpoor           \t\t\t\t8.3038\tsatisfi        \n",
      "\t-8.0610\ttasteless      \t\t\t\t8.1481\twithout        \n",
      "\t-7.9773\tnasti          \t\t\t\t7.8398\taddict         \n",
      "\t-7.7923\tnever buy      \t\t\t\t7.6285\tcarri          \n"
     ]
    }
   ],
   "source": [
    "def show_most_informative_features(vectorizer, clf, n=25):\n",
    "    feature_names = vectorizer.get_feature_names()\n",
    "    coefs_with_fns = sorted(zip(clf.coef_[0], feature_names))\n",
    "    top = zip(coefs_with_fns[:n], coefs_with_fns[:-(n + 1):-1])\n",
    "    print(\"\\t\\t\\tPositive\\t\\t\\t\\t\\t\\tNegative\")\n",
    "    print(\"________________________________________________________________________________________________\")\n",
    "    for (coef_1, fn_1), (coef_2, fn_2) in top:\n",
    "        print(\"\\t%.4f\\t%-15s\\t\\t\\t\\t%.4f\\t%-15s\" % (coef_1, fn_1, coef_2, fn_2))\n",
    "        \n",
    "show_most_informative_features(tfidf,lr)\n",
    "#Code Reference:https://stackoverflow.com/questions/11116697/how-to-get-most-informative-features-for-scikit-learn-classifiers"
   ]
  },
  {
   "cell_type": "markdown",
   "metadata": {},
   "source": [
    "### Logistic Regression Word2Vec"
   ]
  },
  {
   "cell_type": "code",
   "execution_count": 154,
   "metadata": {
    "ExecuteTime": {
     "end_time": "2018-09-04T11:49:16.974575Z",
     "start_time": "2018-09-04T11:49:16.967615Z"
    }
   },
   "outputs": [],
   "source": [
    "import string\n",
    "import re\n",
    "import nltk\n",
    "from nltk.corpus import stopwords\n",
    "from nltk.stem import PorterStemmer\n",
    "from nltk.stem.wordnet import WordNetLemmatizer\n",
    "\n",
    "stop = set(stopwords.words('english')) #set of stopwords\n",
    "sno = nltk.stem.SnowballStemmer('english') #initialising the snowball stemmer\n",
    "\n",
    "def cleanhtml(sentence): #function to clean the word of any html-tags\n",
    "    cleanr = re.compile('<.*?>')\n",
    "    cleantext = re.sub(cleanr, ' ', sentence)\n",
    "    return cleantext\n",
    "def cleanpunc(sentence): #function to clean the word of any punctuation or special characters\n",
    "    cleaned = re.sub(r'[?|!|\\'|\"|#]',r'',sentence)\n",
    "    cleaned = re.sub(r'[.|,|)|(|\\|/]',r' ',cleaned)\n",
    "    return  cleaned"
   ]
  },
  {
   "cell_type": "code",
   "execution_count": 155,
   "metadata": {
    "ExecuteTime": {
     "end_time": "2018-09-04T11:51:20.704140Z",
     "start_time": "2018-09-04T11:49:17.646065Z"
    }
   },
   "outputs": [],
   "source": [
    "#filtering sentence\n",
    "final_string=[]\n",
    "s=''\n",
    "for sentence in final_data_sample['Text']:\n",
    "    filtered_sentence=[]\n",
    "    cleaned_sentence=cleanhtml(sentence)\n",
    "    for words in sentence.split():\n",
    "        cleaned_words=cleanpunc(words)\n",
    "        if ( (cleaned_words.isalpha()) & (len(cleaned_words)>2) ):\n",
    "            if(cleaned_words.lower() not in stop):\n",
    "                s=(sno.stem(cleaned_words.lower())).encode('utf8')\n",
    "                filtered_sentence.append(s)\n",
    "            else: \n",
    "                continue\n",
    "        else:\n",
    "            continue\n",
    "    str1=b\" \".join(filtered_sentence)    \n",
    "    final_string.append(str1)"
   ]
  },
  {
   "cell_type": "code",
   "execution_count": 156,
   "metadata": {
    "ExecuteTime": {
     "end_time": "2018-09-04T11:52:09.255035Z",
     "start_time": "2018-09-04T11:52:09.233106Z"
    }
   },
   "outputs": [],
   "source": [
    "final_data_sample['Cleaned_text']=final_string"
   ]
  },
  {
   "cell_type": "code",
   "execution_count": 159,
   "metadata": {
    "ExecuteTime": {
     "end_time": "2018-09-04T11:53:32.367335Z",
     "start_time": "2018-09-04T11:53:30.793414Z"
    }
   },
   "outputs": [],
   "source": [
    "import gensim\n",
    "\n",
    "#getting the list of sentences in a 'list'\n",
    "i=0\n",
    "list_of_sentences=[]\n",
    "for sent in final_data_sample['Cleaned_text'].values:\n",
    "    filtered_sentence=[]    \n",
    "    for w in sent.split():\n",
    "        w=w.decode(\"utf-8\") \n",
    "        filtered_sentence.append(w.lower())       \n",
    "    list_of_sentences.append(filtered_sentence)"
   ]
  },
  {
   "cell_type": "code",
   "execution_count": 160,
   "metadata": {
    "ExecuteTime": {
     "end_time": "2018-09-04T11:53:45.059916Z",
     "start_time": "2018-09-04T11:53:45.054901Z"
    }
   },
   "outputs": [
    {
     "data": {
      "text/plain": [
       "100000"
      ]
     },
     "execution_count": 160,
     "metadata": {},
     "output_type": "execute_result"
    }
   ],
   "source": [
    "len(list_of_sentences)"
   ]
  },
  {
   "cell_type": "code",
   "execution_count": 161,
   "metadata": {
    "ExecuteTime": {
     "end_time": "2018-09-04T11:54:06.106611Z",
     "start_time": "2018-09-04T11:53:57.474530Z"
    }
   },
   "outputs": [
    {
     "name": "stdout",
     "output_type": "stream",
     "text": [
      "11110\n"
     ]
    }
   ],
   "source": [
    "#defining a word2vec model\n",
    "w2v_model=gensim.models.Word2Vec(list_of_sentences,min_count=5,size=50, workers=4)    \n",
    "words=list(w2v_model.wv.vocab)\n",
    "print(len(words))"
   ]
  },
  {
   "cell_type": "code",
   "execution_count": 162,
   "metadata": {
    "ExecuteTime": {
     "end_time": "2018-09-04T11:54:36.527081Z",
     "start_time": "2018-09-04T11:54:25.384751Z"
    }
   },
   "outputs": [],
   "source": [
    "#calculating avg word2vec\n",
    "vectors=[];\n",
    "for sentence in list_of_sentences:\n",
    "    sentence_vector=np.zeros(50)\n",
    "    count_vec=0;\n",
    "    for word in sentence:\n",
    "        try:\n",
    "            vec=w2v_model.wv[word]\n",
    "            sentence_vector+=vec\n",
    "            count_vec+=1;\n",
    "        except:\n",
    "            pass\n",
    "    sentence_vector/=count_vec\n",
    "    vectors.append(sentence_vector)"
   ]
  },
  {
   "cell_type": "code",
   "execution_count": 163,
   "metadata": {
    "ExecuteTime": {
     "end_time": "2018-09-04T11:54:45.414797Z",
     "start_time": "2018-09-04T11:54:45.299982Z"
    },
    "scrolled": false
   },
   "outputs": [
    {
     "data": {
      "text/plain": [
       "array([[ 1232,     0],\n",
       "       [ 1232,     1],\n",
       "       [ 1232,     2],\n",
       "       [ 1232,     3],\n",
       "       [ 1232,     4],\n",
       "       [ 1232,     5],\n",
       "       [ 1232,     6],\n",
       "       [ 1232,     7],\n",
       "       [ 1232,     8],\n",
       "       [ 1232,     9],\n",
       "       [ 1232,    10],\n",
       "       [ 1232,    11],\n",
       "       [ 1232,    12],\n",
       "       [ 1232,    13],\n",
       "       [ 1232,    14],\n",
       "       [ 1232,    15],\n",
       "       [ 1232,    16],\n",
       "       [ 1232,    17],\n",
       "       [ 1232,    18],\n",
       "       [ 1232,    19],\n",
       "       [ 1232,    20],\n",
       "       [ 1232,    21],\n",
       "       [ 1232,    22],\n",
       "       [ 1232,    23],\n",
       "       [ 1232,    24],\n",
       "       [ 1232,    25],\n",
       "       [ 1232,    26],\n",
       "       [ 1232,    27],\n",
       "       [ 1232,    28],\n",
       "       [ 1232,    29],\n",
       "       [ 1232,    30],\n",
       "       [ 1232,    31],\n",
       "       [ 1232,    32],\n",
       "       [ 1232,    33],\n",
       "       [ 1232,    34],\n",
       "       [ 1232,    35],\n",
       "       [ 1232,    36],\n",
       "       [ 1232,    37],\n",
       "       [ 1232,    38],\n",
       "       [ 1232,    39],\n",
       "       [ 1232,    40],\n",
       "       [ 1232,    41],\n",
       "       [ 1232,    42],\n",
       "       [ 1232,    43],\n",
       "       [ 1232,    44],\n",
       "       [ 1232,    45],\n",
       "       [ 1232,    46],\n",
       "       [ 1232,    47],\n",
       "       [ 1232,    48],\n",
       "       [ 1232,    49],\n",
       "       [16511,     0],\n",
       "       [16511,     1],\n",
       "       [16511,     2],\n",
       "       [16511,     3],\n",
       "       [16511,     4],\n",
       "       [16511,     5],\n",
       "       [16511,     6],\n",
       "       [16511,     7],\n",
       "       [16511,     8],\n",
       "       [16511,     9],\n",
       "       [16511,    10],\n",
       "       [16511,    11],\n",
       "       [16511,    12],\n",
       "       [16511,    13],\n",
       "       [16511,    14],\n",
       "       [16511,    15],\n",
       "       [16511,    16],\n",
       "       [16511,    17],\n",
       "       [16511,    18],\n",
       "       [16511,    19],\n",
       "       [16511,    20],\n",
       "       [16511,    21],\n",
       "       [16511,    22],\n",
       "       [16511,    23],\n",
       "       [16511,    24],\n",
       "       [16511,    25],\n",
       "       [16511,    26],\n",
       "       [16511,    27],\n",
       "       [16511,    28],\n",
       "       [16511,    29],\n",
       "       [16511,    30],\n",
       "       [16511,    31],\n",
       "       [16511,    32],\n",
       "       [16511,    33],\n",
       "       [16511,    34],\n",
       "       [16511,    35],\n",
       "       [16511,    36],\n",
       "       [16511,    37],\n",
       "       [16511,    38],\n",
       "       [16511,    39],\n",
       "       [16511,    40],\n",
       "       [16511,    41],\n",
       "       [16511,    42],\n",
       "       [16511,    43],\n",
       "       [16511,    44],\n",
       "       [16511,    45],\n",
       "       [16511,    46],\n",
       "       [16511,    47],\n",
       "       [16511,    48],\n",
       "       [16511,    49],\n",
       "       [33428,     0],\n",
       "       [33428,     1],\n",
       "       [33428,     2],\n",
       "       [33428,     3],\n",
       "       [33428,     4],\n",
       "       [33428,     5],\n",
       "       [33428,     6],\n",
       "       [33428,     7],\n",
       "       [33428,     8],\n",
       "       [33428,     9],\n",
       "       [33428,    10],\n",
       "       [33428,    11],\n",
       "       [33428,    12],\n",
       "       [33428,    13],\n",
       "       [33428,    14],\n",
       "       [33428,    15],\n",
       "       [33428,    16],\n",
       "       [33428,    17],\n",
       "       [33428,    18],\n",
       "       [33428,    19],\n",
       "       [33428,    20],\n",
       "       [33428,    21],\n",
       "       [33428,    22],\n",
       "       [33428,    23],\n",
       "       [33428,    24],\n",
       "       [33428,    25],\n",
       "       [33428,    26],\n",
       "       [33428,    27],\n",
       "       [33428,    28],\n",
       "       [33428,    29],\n",
       "       [33428,    30],\n",
       "       [33428,    31],\n",
       "       [33428,    32],\n",
       "       [33428,    33],\n",
       "       [33428,    34],\n",
       "       [33428,    35],\n",
       "       [33428,    36],\n",
       "       [33428,    37],\n",
       "       [33428,    38],\n",
       "       [33428,    39],\n",
       "       [33428,    40],\n",
       "       [33428,    41],\n",
       "       [33428,    42],\n",
       "       [33428,    43],\n",
       "       [33428,    44],\n",
       "       [33428,    45],\n",
       "       [33428,    46],\n",
       "       [33428,    47],\n",
       "       [33428,    48],\n",
       "       [33428,    49],\n",
       "       [52957,     0],\n",
       "       [52957,     1],\n",
       "       [52957,     2],\n",
       "       [52957,     3],\n",
       "       [52957,     4],\n",
       "       [52957,     5],\n",
       "       [52957,     6],\n",
       "       [52957,     7],\n",
       "       [52957,     8],\n",
       "       [52957,     9],\n",
       "       [52957,    10],\n",
       "       [52957,    11],\n",
       "       [52957,    12],\n",
       "       [52957,    13],\n",
       "       [52957,    14],\n",
       "       [52957,    15],\n",
       "       [52957,    16],\n",
       "       [52957,    17],\n",
       "       [52957,    18],\n",
       "       [52957,    19],\n",
       "       [52957,    20],\n",
       "       [52957,    21],\n",
       "       [52957,    22],\n",
       "       [52957,    23],\n",
       "       [52957,    24],\n",
       "       [52957,    25],\n",
       "       [52957,    26],\n",
       "       [52957,    27],\n",
       "       [52957,    28],\n",
       "       [52957,    29],\n",
       "       [52957,    30],\n",
       "       [52957,    31],\n",
       "       [52957,    32],\n",
       "       [52957,    33],\n",
       "       [52957,    34],\n",
       "       [52957,    35],\n",
       "       [52957,    36],\n",
       "       [52957,    37],\n",
       "       [52957,    38],\n",
       "       [52957,    39],\n",
       "       [52957,    40],\n",
       "       [52957,    41],\n",
       "       [52957,    42],\n",
       "       [52957,    43],\n",
       "       [52957,    44],\n",
       "       [52957,    45],\n",
       "       [52957,    46],\n",
       "       [52957,    47],\n",
       "       [52957,    48],\n",
       "       [52957,    49],\n",
       "       [80147,     0],\n",
       "       [80147,     1],\n",
       "       [80147,     2],\n",
       "       [80147,     3],\n",
       "       [80147,     4],\n",
       "       [80147,     5],\n",
       "       [80147,     6],\n",
       "       [80147,     7],\n",
       "       [80147,     8],\n",
       "       [80147,     9],\n",
       "       [80147,    10],\n",
       "       [80147,    11],\n",
       "       [80147,    12],\n",
       "       [80147,    13],\n",
       "       [80147,    14],\n",
       "       [80147,    15],\n",
       "       [80147,    16],\n",
       "       [80147,    17],\n",
       "       [80147,    18],\n",
       "       [80147,    19],\n",
       "       [80147,    20],\n",
       "       [80147,    21],\n",
       "       [80147,    22],\n",
       "       [80147,    23],\n",
       "       [80147,    24],\n",
       "       [80147,    25],\n",
       "       [80147,    26],\n",
       "       [80147,    27],\n",
       "       [80147,    28],\n",
       "       [80147,    29],\n",
       "       [80147,    30],\n",
       "       [80147,    31],\n",
       "       [80147,    32],\n",
       "       [80147,    33],\n",
       "       [80147,    34],\n",
       "       [80147,    35],\n",
       "       [80147,    36],\n",
       "       [80147,    37],\n",
       "       [80147,    38],\n",
       "       [80147,    39],\n",
       "       [80147,    40],\n",
       "       [80147,    41],\n",
       "       [80147,    42],\n",
       "       [80147,    43],\n",
       "       [80147,    44],\n",
       "       [80147,    45],\n",
       "       [80147,    46],\n",
       "       [80147,    47],\n",
       "       [80147,    48],\n",
       "       [80147,    49],\n",
       "       [85013,     0],\n",
       "       [85013,     1],\n",
       "       [85013,     2],\n",
       "       [85013,     3],\n",
       "       [85013,     4],\n",
       "       [85013,     5],\n",
       "       [85013,     6],\n",
       "       [85013,     7],\n",
       "       [85013,     8],\n",
       "       [85013,     9],\n",
       "       [85013,    10],\n",
       "       [85013,    11],\n",
       "       [85013,    12],\n",
       "       [85013,    13],\n",
       "       [85013,    14],\n",
       "       [85013,    15],\n",
       "       [85013,    16],\n",
       "       [85013,    17],\n",
       "       [85013,    18],\n",
       "       [85013,    19],\n",
       "       [85013,    20],\n",
       "       [85013,    21],\n",
       "       [85013,    22],\n",
       "       [85013,    23],\n",
       "       [85013,    24],\n",
       "       [85013,    25],\n",
       "       [85013,    26],\n",
       "       [85013,    27],\n",
       "       [85013,    28],\n",
       "       [85013,    29],\n",
       "       [85013,    30],\n",
       "       [85013,    31],\n",
       "       [85013,    32],\n",
       "       [85013,    33],\n",
       "       [85013,    34],\n",
       "       [85013,    35],\n",
       "       [85013,    36],\n",
       "       [85013,    37],\n",
       "       [85013,    38],\n",
       "       [85013,    39],\n",
       "       [85013,    40],\n",
       "       [85013,    41],\n",
       "       [85013,    42],\n",
       "       [85013,    43],\n",
       "       [85013,    44],\n",
       "       [85013,    45],\n",
       "       [85013,    46],\n",
       "       [85013,    47],\n",
       "       [85013,    48],\n",
       "       [85013,    49],\n",
       "       [97919,     0],\n",
       "       [97919,     1],\n",
       "       [97919,     2],\n",
       "       [97919,     3],\n",
       "       [97919,     4],\n",
       "       [97919,     5],\n",
       "       [97919,     6],\n",
       "       [97919,     7],\n",
       "       [97919,     8],\n",
       "       [97919,     9],\n",
       "       [97919,    10],\n",
       "       [97919,    11],\n",
       "       [97919,    12],\n",
       "       [97919,    13],\n",
       "       [97919,    14],\n",
       "       [97919,    15],\n",
       "       [97919,    16],\n",
       "       [97919,    17],\n",
       "       [97919,    18],\n",
       "       [97919,    19],\n",
       "       [97919,    20],\n",
       "       [97919,    21],\n",
       "       [97919,    22],\n",
       "       [97919,    23],\n",
       "       [97919,    24],\n",
       "       [97919,    25],\n",
       "       [97919,    26],\n",
       "       [97919,    27],\n",
       "       [97919,    28],\n",
       "       [97919,    29],\n",
       "       [97919,    30],\n",
       "       [97919,    31],\n",
       "       [97919,    32],\n",
       "       [97919,    33],\n",
       "       [97919,    34],\n",
       "       [97919,    35],\n",
       "       [97919,    36],\n",
       "       [97919,    37],\n",
       "       [97919,    38],\n",
       "       [97919,    39],\n",
       "       [97919,    40],\n",
       "       [97919,    41],\n",
       "       [97919,    42],\n",
       "       [97919,    43],\n",
       "       [97919,    44],\n",
       "       [97919,    45],\n",
       "       [97919,    46],\n",
       "       [97919,    47],\n",
       "       [97919,    48],\n",
       "       [97919,    49]], dtype=int64)"
      ]
     },
     "execution_count": 163,
     "metadata": {},
     "output_type": "execute_result"
    }
   ],
   "source": [
    "np.argwhere(np.isnan(vectors)) "
   ]
  },
  {
   "cell_type": "code",
   "execution_count": 164,
   "metadata": {
    "ExecuteTime": {
     "end_time": "2018-09-04T11:59:02.314144Z",
     "start_time": "2018-09-04T11:59:02.310174Z"
    }
   },
   "outputs": [],
   "source": [
    "z= [1232,16511,33428,52957,80147,85013,97919]"
   ]
  },
  {
   "cell_type": "code",
   "execution_count": 165,
   "metadata": {
    "ExecuteTime": {
     "end_time": "2018-09-04T11:59:18.662308Z",
     "start_time": "2018-09-04T11:59:18.532628Z"
    }
   },
   "outputs": [],
   "source": [
    "#detected a row containing nan value, deleting it\n",
    "vectors=np.delete(vectors,z , axis=0)"
   ]
  },
  {
   "cell_type": "code",
   "execution_count": 166,
   "metadata": {
    "ExecuteTime": {
     "end_time": "2018-09-04T11:59:28.721863Z",
     "start_time": "2018-09-04T11:59:28.694909Z"
    }
   },
   "outputs": [
    {
     "data": {
      "text/plain": [
       "array([], shape=(0, 2), dtype=int64)"
      ]
     },
     "execution_count": 166,
     "metadata": {},
     "output_type": "execute_result"
    }
   ],
   "source": [
    "np.argwhere(np.isnan(vectors))"
   ]
  },
  {
   "cell_type": "code",
   "execution_count": 167,
   "metadata": {
    "ExecuteTime": {
     "end_time": "2018-09-04T11:59:44.054914Z",
     "start_time": "2018-09-04T11:59:44.050924Z"
    }
   },
   "outputs": [],
   "source": [
    "sample_score = final_data_sample['Score']"
   ]
  },
  {
   "cell_type": "code",
   "execution_count": 168,
   "metadata": {
    "ExecuteTime": {
     "end_time": "2018-09-04T11:59:58.941181Z",
     "start_time": "2018-09-04T11:59:58.936222Z"
    }
   },
   "outputs": [],
   "source": [
    "sample_score=np.array(sample_score)"
   ]
  },
  {
   "cell_type": "code",
   "execution_count": 169,
   "metadata": {
    "ExecuteTime": {
     "end_time": "2018-09-04T12:00:14.004362Z",
     "start_time": "2018-09-04T12:00:13.999402Z"
    }
   },
   "outputs": [],
   "source": [
    "sample_score=np.delete(sample_score,z,axis=0)"
   ]
  },
  {
   "cell_type": "code",
   "execution_count": 170,
   "metadata": {
    "ExecuteTime": {
     "end_time": "2018-09-04T12:02:37.396617Z",
     "start_time": "2018-09-04T12:02:37.368666Z"
    }
   },
   "outputs": [],
   "source": [
    "X_train, X_test, y_train, y_test = train_test_split(vectors,sample_score,test_size=0.3,shuffle=False)"
   ]
  },
  {
   "cell_type": "code",
   "execution_count": 172,
   "metadata": {
    "ExecuteTime": {
     "end_time": "2018-09-04T12:29:37.014150Z",
     "start_time": "2018-09-04T12:16:53.336827Z"
    }
   },
   "outputs": [
    {
     "name": "stdout",
     "output_type": "stream",
     "text": [
      "Fitting 10 folds for each of 30 candidates, totalling 300 fits\n"
     ]
    },
    {
     "name": "stderr",
     "output_type": "stream",
     "text": [
      "[Parallel(n_jobs=1)]: Done 300 out of 300 | elapsed: 12.6min finished\n"
     ]
    },
    {
     "name": "stdout",
     "output_type": "stream",
     "text": [
      "Best HyperParameter:  {'C': 1, 'penalty': 'l1'}\n",
      "Best Accuracy: 88.24%\n"
     ]
    }
   ],
   "source": [
    "lr = LogisticRegression()\n",
    "#params we need to try on classifier\n",
    "param_grid = {'C':[1000,500,100,50,10,5,1,0.5,0.1,0.05,0.01,0.005,0.001,0.0005,0.0001],'penalty':['l1','l2']} \n",
    "tscv = TimeSeriesSplit(n_splits=10) #For time based splitting\n",
    "gscv = GridSearchCV(lr,param_grid,cv=tscv,verbose=1)\n",
    "gscv.fit(X_train,y_train)\n",
    "SaveToFile(gscv,\"LR-Word2Vec\")\n",
    "print(\"Best HyperParameter: \",gscv.best_params_)\n",
    "print(\"Best Accuracy: %.2f%%\"%(gscv.best_score_*100))"
   ]
  },
  {
   "cell_type": "code",
   "execution_count": 173,
   "metadata": {
    "ExecuteTime": {
     "end_time": "2018-09-04T12:31:43.333554Z",
     "start_time": "2018-09-04T12:31:43.209858Z"
    }
   },
   "outputs": [
    {
     "data": {
      "image/png": "[encoded data removed]",
      "text/plain": [
       "<Figure size 432x288 with 1 Axes>"
      ]
     },
     "metadata": {},
     "output_type": "display_data"
    }
   ],
   "source": [
    "gscv = OpenFromFile(\"LR-Word2Vec\")\n",
    "error_vs_c(gscv)"
   ]
  },
  {
   "cell_type": "code",
   "execution_count": 174,
   "metadata": {
    "ExecuteTime": {
     "end_time": "2018-09-04T12:32:55.947914Z",
     "start_time": "2018-09-04T12:32:55.943924Z"
    }
   },
   "outputs": [
    {
     "name": "stdout",
     "output_type": "stream",
     "text": [
      "LogisticRegression(C=1, class_weight=None, dual=False, fit_intercept=True,\n",
      "          intercept_scaling=1, max_iter=100, multi_class='ovr', n_jobs=1,\n",
      "          penalty='l1', random_state=None, solver='liblinear', tol=0.0001,\n",
      "          verbose=0, warm_start=False)\n"
     ]
    }
   ],
   "source": [
    "print(gscv.best_estimator_)"
   ]
  },
  {
   "cell_type": "code",
   "execution_count": 175,
   "metadata": {
    "ExecuteTime": {
     "end_time": "2018-09-04T12:33:14.811148Z",
     "start_time": "2018-09-04T12:33:14.806128Z"
    }
   },
   "outputs": [
    {
     "name": "stdout",
     "output_type": "stream",
     "text": [
      "12\n"
     ]
    }
   ],
   "source": [
    "print(gscv.best_index_)"
   ]
  },
  {
   "cell_type": "code",
   "execution_count": 176,
   "metadata": {
    "ExecuteTime": {
     "end_time": "2018-09-04T12:34:23.477117Z",
     "start_time": "2018-09-04T12:34:14.683028Z"
    }
   },
   "outputs": [
    {
     "name": "stdout",
     "output_type": "stream",
     "text": [
      "Accuracy on test set: 87.422%\n",
      "Precision on test set: 0.890\n",
      "Recall on test set: 0.967\n",
      "F1-Score on test set: 0.927\n",
      "Non Zero weights: 50\n"
     ]
    },
    {
     "data": {
      "text/plain": [
       "<matplotlib.axes._subplots.AxesSubplot at 0x217d9b8b048>"
      ]
     },
     "execution_count": 176,
     "metadata": {},
     "output_type": "execute_result"
    },
    {
     "data": {
      "image/png": "[encoded data removed]",
      "text/plain": [
       "<Figure size 432x288 with 2 Axes>"
      ]
     },
     "metadata": {},
     "output_type": "display_data"
    }
   ],
   "source": [
    "#Testing Accuracy on Test data with best hyper parametrs\n",
    "from sklearn.linear_model import LogisticRegression\n",
    "\n",
    "lr = LogisticRegression(C= 1, penalty= 'l1')\n",
    "lr.fit(X_train,y_train)\n",
    "y_pred = lr.predict(X_test)\n",
    "print(\"Accuracy on test set: %0.3f%%\"%(accuracy_score(y_test, y_pred)*100))\n",
    "print(\"Precision on test set: %0.3f\"%(precision_score(y_test, y_pred)))\n",
    "print(\"Recall on test set: %0.3f\"%(recall_score(y_test, y_pred)))\n",
    "print(\"F1-Score on test set: %0.3f\"%(f1_score(y_test, y_pred)))\n",
    "print(\"Non Zero weights:\",np.count_nonzero(lr.coef_))\n",
    "df_cm = pd.DataFrame(confusion_matrix(y_test, y_pred), range(2),range(2))\n",
    "sns.set(font_scale=1.4)#for label size\n",
    "sns.heatmap(df_cm, annot=True,annot_kws={\"size\": 16}, fmt='g')"
   ]
  },
  {
   "cell_type": "markdown",
   "metadata": {},
   "source": [
    "#### Random Search Word2Vec"
   ]
  },
  {
   "cell_type": "code",
   "execution_count": 177,
   "metadata": {
    "ExecuteTime": {
     "end_time": "2018-09-04T12:38:39.026781Z",
     "start_time": "2018-09-04T12:37:04.628496Z"
    }
   },
   "outputs": [
    {
     "name": "stdout",
     "output_type": "stream",
     "text": [
      "Fitting 10 folds for each of 10 candidates, totalling 100 fits\n"
     ]
    },
    {
     "name": "stderr",
     "output_type": "stream",
     "text": [
      "[Parallel(n_jobs=1)]: Done 100 out of 100 | elapsed:  1.6min finished\n"
     ]
    },
    {
     "name": "stdout",
     "output_type": "stream",
     "text": [
      "Best HyperParameter:  {'penalty': 'l2', 'C': 1}\n",
      "Best Accuracy: 88.23%\n"
     ]
    }
   ],
   "source": [
    "lr = LogisticRegression()\n",
    "param_grid = {'C':[1000,500,100,50,10,5,1,0.5,0.1,0.05,0.01,0.005,0.001,0.0005,0.0001],'penalty':['l1','l2']} \n",
    "tscv = TimeSeriesSplit(n_splits=10) #For time based splitting\n",
    "gscv = RandomizedSearchCV(lr,param_grid,cv=tscv,verbose=1)\n",
    "gscv.fit(X_train,y_train)\n",
    "SaveToFile(gscv,\"LR-RandomSearch-Word2Vec\")\n",
    "print(\"Best HyperParameter: \",gscv.best_params_)\n",
    "print(\"Best Accuracy: %.2f%%\"%(gscv.best_score_*100))"
   ]
  },
  {
   "cell_type": "code",
   "execution_count": 178,
   "metadata": {
    "ExecuteTime": {
     "end_time": "2018-09-04T12:38:53.424326Z",
     "start_time": "2018-09-04T12:38:53.419306Z"
    }
   },
   "outputs": [
    {
     "name": "stdout",
     "output_type": "stream",
     "text": [
      "LogisticRegression(C=1, class_weight=None, dual=False, fit_intercept=True,\n",
      "          intercept_scaling=1, max_iter=100, multi_class='ovr', n_jobs=1,\n",
      "          penalty='l2', random_state=None, solver='liblinear', tol=0.0001,\n",
      "          verbose=0, warm_start=False)\n"
     ]
    }
   ],
   "source": [
    "print(gscv.best_estimator_)"
   ]
  },
  {
   "cell_type": "code",
   "execution_count": 179,
   "metadata": {
    "ExecuteTime": {
     "end_time": "2018-09-04T12:39:05.410624Z",
     "start_time": "2018-09-04T12:39:05.406635Z"
    }
   },
   "outputs": [
    {
     "name": "stdout",
     "output_type": "stream",
     "text": [
      "2\n"
     ]
    }
   ],
   "source": [
    "print(gscv.best_index_)"
   ]
  },
  {
   "cell_type": "code",
   "execution_count": 180,
   "metadata": {
    "ExecuteTime": {
     "end_time": "2018-09-04T12:39:35.052963Z",
     "start_time": "2018-09-04T12:39:33.884089Z"
    }
   },
   "outputs": [
    {
     "name": "stdout",
     "output_type": "stream",
     "text": [
      "Accuracy on test set: 87.399%\n",
      "Precision on test set: 0.890\n",
      "Recall on test set: 0.967\n",
      "F1-Score on test set: 0.927\n",
      "Non Zero weights: 50\n"
     ]
    },
    {
     "data": {
      "text/plain": [
       "<matplotlib.axes._subplots.AxesSubplot at 0x217807ff588>"
      ]
     },
     "execution_count": 180,
     "metadata": {},
     "output_type": "execute_result"
    },
    {
     "data": {
      "image/png": "[encoded data removed]",
      "text/plain": [
       "<Figure size 432x288 with 2 Axes>"
      ]
     },
     "metadata": {},
     "output_type": "display_data"
    }
   ],
   "source": [
    "#Testing Accuracy on Test data with best hyper parametrs\n",
    "from sklearn.linear_model import LogisticRegression\n",
    "\n",
    "lr = LogisticRegression(C= 1, penalty= 'l2')\n",
    "lr.fit(X_train,y_train)\n",
    "y_pred = lr.predict(X_test)\n",
    "print(\"Accuracy on test set: %0.3f%%\"%(accuracy_score(y_test, y_pred)*100))\n",
    "print(\"Precision on test set: %0.3f\"%(precision_score(y_test, y_pred)))\n",
    "print(\"Recall on test set: %0.3f\"%(recall_score(y_test, y_pred)))\n",
    "print(\"F1-Score on test set: %0.3f\"%(f1_score(y_test, y_pred)))\n",
    "print(\"Non Zero weights:\",np.count_nonzero(lr.coef_))\n",
    "df_cm = pd.DataFrame(confusion_matrix(y_test, y_pred), range(2),range(2))\n",
    "sns.set(font_scale=1.4)#for label size\n",
    "sns.heatmap(df_cm, annot=True,annot_kws={\"size\": 16}, fmt='g')"
   ]
  },
  {
   "cell_type": "code",
   "execution_count": 181,
   "metadata": {
    "ExecuteTime": {
     "end_time": "2018-09-04T12:40:31.360343Z",
     "start_time": "2018-09-04T12:40:31.241660Z"
    }
   },
   "outputs": [
    {
     "data": {
      "image/png": "[encoded data removed]",
      "text/plain": [
       "<Figure size 432x288 with 1 Axes>"
      ]
     },
     "metadata": {},
     "output_type": "display_data"
    }
   ],
   "source": [
    "gscv = OpenFromFile(\"LR-RandomSearch-Word2Vec\")\n",
    "error_vs_c(gscv)"
   ]
  },
  {
   "cell_type": "markdown",
   "metadata": {},
   "source": [
    "### Perturbation Test"
   ]
  },
  {
   "cell_type": "code",
   "execution_count": 185,
   "metadata": {
    "ExecuteTime": {
     "end_time": "2018-09-04T12:42:25.739700Z",
     "start_time": "2018-09-04T12:42:24.491039Z"
    }
   },
   "outputs": [
    {
     "name": "stdout",
     "output_type": "stream",
     "text": [
      "Accuracy on test set: 87.382%\n",
      "Non Zero weights: 50\n"
     ]
    }
   ],
   "source": [
    "lr = LogisticRegression(C= 100, penalty= 'l2')\n",
    "lr.fit(X_train,y_train)\n",
    "y_pred = lr.predict(X_test)\n",
    "print(\"Accuracy on test set: %0.3f%%\"%(accuracy_score(y_test, y_pred)*100))\n",
    "print(\"Non Zero weights:\",np.count_nonzero(lr.coef_))"
   ]
  },
  {
   "cell_type": "code",
   "execution_count": 186,
   "metadata": {
    "ExecuteTime": {
     "end_time": "2018-09-04T12:42:50.688424Z",
     "start_time": "2018-09-04T12:42:50.682440Z"
    }
   },
   "outputs": [
    {
     "name": "stdout",
     "output_type": "stream",
     "text": [
      "[ 1.11481534 -0.61690144  0.46383862 -1.08833839 -0.64730038 -1.06272744\n",
      " -0.37572612 -0.91735724  0.26684892 -1.51230283 -0.01510711  0.42048897\n",
      "  0.66287556 -0.96607495 -0.71367551  0.22188898  0.04822971  0.17254096\n",
      "  0.23189781  0.42207446 -0.61587118  0.02085823  0.23078247 -1.18628109\n",
      " -0.47482806  1.04977856 -1.15704838 -0.41295597 -1.32630265 -0.61311304\n",
      " -0.48050484  0.6070716   0.59927513  0.39739629  0.4654252   0.31171651\n",
      "  0.25188537  0.07821047  0.26635899  0.80996929  0.08038552 -0.02529015\n",
      " -0.10621743  0.08412767  1.0004308  -0.12545233  1.60543559  0.31394309\n",
      " -0.31150545 -0.05617348]\n"
     ]
    }
   ],
   "source": [
    "from scipy.sparse import find\n",
    "#Weights before adding random noise\n",
    "weights1 = find(lr.coef_[0])[2]\n",
    "print(weights1[:50])"
   ]
  },
  {
   "cell_type": "code",
   "execution_count": 187,
   "metadata": {
    "ExecuteTime": {
     "end_time": "2018-09-04T12:43:04.835060Z",
     "start_time": "2018-09-04T12:43:04.332383Z"
    }
   },
   "outputs": [],
   "source": [
    "X_train_t = X_train\n",
    "#Random noise\n",
    "epsilon = np.random.uniform(low=-0.01, high=0.01, size=(find(X_train_t)[0].size,))\n",
    "#Getting the postions(row and column) and value of non-zero datapoints \n",
    "a,b,c = find(X_train_t)\n",
    "\n",
    "#Introducing random noise to non-zero datapoints\n",
    "X_train_t[a,b] = epsilon + X_train_t[a,b]"
   ]
  },
  {
   "cell_type": "code",
   "execution_count": 188,
   "metadata": {
    "ExecuteTime": {
     "end_time": "2018-09-04T12:43:36.885965Z",
     "start_time": "2018-09-04T12:43:35.562505Z"
    }
   },
   "outputs": [
    {
     "name": "stdout",
     "output_type": "stream",
     "text": [
      "Accuracy on test set: 87.392%\n",
      "Non Zero weights: 50\n"
     ]
    }
   ],
   "source": [
    "lr = LogisticRegression(C= 10, penalty= 'l2')\n",
    "lr.fit(X_train_t,y_train)\n",
    "y_pred = lr.predict(X_test)\n",
    "print(\"Accuracy on test set: %0.3f%%\"%(accuracy_score(y_test, y_pred)*100))\n",
    "print(\"Non Zero weights:\",np.count_nonzero(lr.coef_))"
   ]
  },
  {
   "cell_type": "code",
   "execution_count": 189,
   "metadata": {
    "ExecuteTime": {
     "end_time": "2018-09-04T12:44:09.376523Z",
     "start_time": "2018-09-04T12:44:09.370531Z"
    }
   },
   "outputs": [
    {
     "name": "stdout",
     "output_type": "stream",
     "text": [
      "[ 1.11297359 -0.61770077  0.4642501  -1.09122777 -0.64584532 -1.06227639\n",
      " -0.37295108 -0.91616281  0.26356474 -1.51011802 -0.01575377  0.41801233\n",
      "  0.66179685 -0.96343481 -0.71299939  0.2213586   0.04746063  0.17056578\n",
      "  0.22915415  0.42284422 -0.6172101   0.01873532  0.23300476 -1.18523984\n",
      " -0.4745159   1.0483166  -1.15496152 -0.41288786 -1.32742613 -0.60918387\n",
      " -0.47814764  0.60611839  0.60158295  0.39745559  0.46631876  0.31164754\n",
      "  0.25057176  0.07957782  0.26428178  0.80732286  0.0780135  -0.02661947\n",
      " -0.10970906  0.08437677  0.99919105 -0.12535335  1.60422519  0.31230585\n",
      " -0.31176268 -0.060089  ]\n"
     ]
    }
   ],
   "source": [
    "\n",
    "weights2 = find(lr.coef_[0])[2]\n",
    "print(weights2[:50])"
   ]
  },
  {
   "cell_type": "code",
   "execution_count": 192,
   "metadata": {
    "ExecuteTime": {
     "end_time": "2018-09-04T12:46:22.422917Z",
     "start_time": "2018-09-04T12:46:22.418943Z"
    }
   },
   "outputs": [],
   "source": [
    "weights_diff = (abs(weights1 - weights2)/weights1) * 100"
   ]
  },
  {
   "cell_type": "code",
   "execution_count": 193,
   "metadata": {
    "ExecuteTime": {
     "end_time": "2018-09-04T12:46:22.806247Z",
     "start_time": "2018-09-04T12:46:22.802255Z"
    }
   },
   "outputs": [
    {
     "name": "stdout",
     "output_type": "stream",
     "text": [
      "0\n"
     ]
    }
   ],
   "source": [
    "print(weights_diff[np.where(weights_diff > 30)].size)"
   ]
  },
  {
   "cell_type": "markdown",
   "metadata": {},
   "source": [
    "### Logistic Regression TF-IDF Word2Vec\n",
    "#### GridSearch"
   ]
  },
  {
   "cell_type": "code",
   "execution_count": 230,
   "metadata": {
    "ExecuteTime": {
     "end_time": "2018-09-04T16:20:36.504634Z",
     "start_time": "2018-09-04T16:20:36.099455Z"
    }
   },
   "outputs": [],
   "source": [
    "# sampling of 25k data points for tfidf word2vec\n",
    "df_sample_25k = final_data_sample.sample(n=25000)\n"
   ]
  },
  {
   "cell_type": "code",
   "execution_count": null,
   "metadata": {
    "ExecuteTime": {
     "end_time": "2018-09-04T16:20:56.271229Z",
     "start_time": "2018-09-04T16:20:56.266241Z"
    }
   },
   "outputs": [],
   "source": []
  },
  {
   "cell_type": "code",
   "execution_count": 233,
   "metadata": {
    "ExecuteTime": {
     "end_time": "2018-09-04T16:21:40.320864Z",
     "start_time": "2018-09-04T16:21:22.775511Z"
    }
   },
   "outputs": [],
   "source": [
    "#filtering sentence\n",
    "final_string=[]\n",
    "s=''\n",
    "for sentence in df_sample_25k['Text']:\n",
    "    filtered_sentence=[]\n",
    "    cleaned_sentence=cleanhtml(sentence)\n",
    "    for words in sentence.split():\n",
    "        cleaned_words=cleanpunc(words)\n",
    "        if ( (cleaned_words.isalpha()) & (len(cleaned_words)>2) ):\n",
    "            if(cleaned_words.lower() not in stop):\n",
    "                s=(sno.stem(cleaned_words.lower())).encode('utf8')\n",
    "                filtered_sentence.append(s)\n",
    "            else: \n",
    "                continue\n",
    "        else:\n",
    "            continue\n",
    "    str1=b\" \".join(filtered_sentence)    \n",
    "    final_string.append(str1)"
   ]
  },
  {
   "cell_type": "code",
   "execution_count": 225,
   "metadata": {
    "ExecuteTime": {
     "end_time": "2018-09-04T13:32:36.911710Z",
     "start_time": "2018-09-04T13:32:36.901758Z"
    }
   },
   "outputs": [
    {
     "data": {
      "text/plain": [
       "(5000, 13)"
      ]
     },
     "execution_count": 225,
     "metadata": {},
     "output_type": "execute_result"
    }
   ],
   "source": [
    "df_sample_25k.shape"
   ]
  },
  {
   "cell_type": "code",
   "execution_count": 234,
   "metadata": {
    "ExecuteTime": {
     "end_time": "2018-09-04T16:22:11.970598Z",
     "start_time": "2018-09-04T16:22:11.954464Z"
    }
   },
   "outputs": [],
   "source": [
    "df_sample_25k['Cleaned_text']=final_string"
   ]
  },
  {
   "cell_type": "code",
   "execution_count": 235,
   "metadata": {
    "ExecuteTime": {
     "end_time": "2018-09-04T16:22:57.740206Z",
     "start_time": "2018-09-04T16:22:57.316142Z"
    }
   },
   "outputs": [],
   "source": [
    "import gensim\n",
    "\n",
    "#getting the list of sentences in a 'list'\n",
    "i=0\n",
    "list_of_sentences=[]\n",
    "for sent in df_sample_25k['Cleaned_text'].values:\n",
    "    filtered_sentence=[]    \n",
    "    for w in sent.split():\n",
    "        w=w.decode(\"utf-8\") \n",
    "        filtered_sentence.append(w.lower())       \n",
    "    list_of_sentences.append(filtered_sentence)"
   ]
  },
  {
   "cell_type": "code",
   "execution_count": 236,
   "metadata": {
    "ExecuteTime": {
     "end_time": "2018-09-04T16:23:23.773426Z",
     "start_time": "2018-09-04T16:23:23.769404Z"
    }
   },
   "outputs": [
    {
     "data": {
      "text/plain": [
       "25000"
      ]
     },
     "execution_count": 236,
     "metadata": {},
     "output_type": "execute_result"
    }
   ],
   "source": [
    "len(list_of_sentences)"
   ]
  },
  {
   "cell_type": "code",
   "execution_count": 237,
   "metadata": {
    "ExecuteTime": {
     "end_time": "2018-09-04T16:23:47.539395Z",
     "start_time": "2018-09-04T16:23:45.222225Z"
    }
   },
   "outputs": [
    {
     "name": "stdout",
     "output_type": "stream",
     "text": [
      "6070\n"
     ]
    }
   ],
   "source": [
    "#defining a word2vec model\n",
    "w2v_model=gensim.models.Word2Vec(list_of_sentences,min_count=5,size=50, workers=4)    \n",
    "words=list(w2v_model.wv.vocab)\n",
    "print(len(words))"
   ]
  },
  {
   "cell_type": "code",
   "execution_count": null,
   "metadata": {
    "ExecuteTime": {
     "end_time": "2018-09-04T13:32:37.584503Z",
     "start_time": "2018-09-04T13:32:37.422900Z"
    }
   },
   "outputs": [],
   "source": []
  },
  {
   "cell_type": "code",
   "execution_count": null,
   "metadata": {
    "ExecuteTime": {
     "end_time": "2018-09-04T13:32:37.872098Z",
     "start_time": "2018-09-04T13:32:37.865113Z"
    }
   },
   "outputs": [],
   "source": []
  },
  {
   "cell_type": "code",
   "execution_count": 238,
   "metadata": {
    "ExecuteTime": {
     "end_time": "2018-09-04T16:25:15.333488Z",
     "start_time": "2018-09-04T16:25:13.243078Z"
    }
   },
   "outputs": [
    {
     "name": "stdout",
     "output_type": "stream",
     "text": [
      "6070\n"
     ]
    }
   ],
   "source": [
    "#defining a word2vec model\n",
    "w2v_model=gensim.models.Word2Vec(list_of_sentences,min_count=5,size=50, workers=4)    \n",
    "words=list(w2v_model.wv.vocab)\n",
    "print(len(words))"
   ]
  },
  {
   "cell_type": "code",
   "execution_count": 239,
   "metadata": {
    "ExecuteTime": {
     "end_time": "2018-09-04T16:29:03.390995Z",
     "start_time": "2018-09-04T16:29:03.385980Z"
    }
   },
   "outputs": [],
   "source": [
    "sample_score = df_sample_25k['Score']\n"
   ]
  },
  {
   "cell_type": "code",
   "execution_count": 240,
   "metadata": {
    "ExecuteTime": {
     "end_time": "2018-09-04T16:29:44.729783Z",
     "start_time": "2018-09-04T16:29:43.982657Z"
    }
   },
   "outputs": [],
   "source": [
    "tf_idf_vect = TfidfVectorizer(ngram_range=(1,1))\n",
    "final_tf_idf = tf_idf_vect.fit_transform(df_sample_25k['Cleaned_text'].values)"
   ]
  },
  {
   "cell_type": "code",
   "execution_count": 241,
   "metadata": {
    "ExecuteTime": {
     "end_time": "2018-09-04T16:30:10.862459Z",
     "start_time": "2018-09-04T16:30:08.794987Z"
    }
   },
   "outputs": [
    {
     "name": "stdout",
     "output_type": "stream",
     "text": [
      "6070\n"
     ]
    }
   ],
   "source": [
    "#defining a word2vec model\n",
    "w2v_model=gensim.models.Word2Vec(list_of_sentences,min_count=5,size=50, workers=4)    \n",
    "words=list(w2v_model.wv.vocab)\n",
    "print(len(words))"
   ]
  },
  {
   "cell_type": "code",
   "execution_count": 242,
   "metadata": {
    "ExecuteTime": {
     "end_time": "2018-09-04T16:30:26.644571Z",
     "start_time": "2018-09-04T16:30:26.626619Z"
    }
   },
   "outputs": [
    {
     "data": {
      "text/plain": [
       "17493"
      ]
     },
     "execution_count": 242,
     "metadata": {},
     "output_type": "execute_result"
    }
   ],
   "source": [
    "features=tf_idf_vect.get_feature_names()\n",
    "len(features)"
   ]
  },
  {
   "cell_type": "code",
   "execution_count": 243,
   "metadata": {
    "ExecuteTime": {
     "end_time": "2018-09-04T16:34:15.218870Z",
     "start_time": "2018-09-04T16:30:46.161583Z"
    }
   },
   "outputs": [],
   "source": [
    "#calculating tf-idf w2vec\n",
    "tfidf_vectors = []; \n",
    "row=0;\n",
    "for sentence in list_of_sentences: \n",
    "    sentence_vec = np.zeros(50) \n",
    "    weight_sum =0; \n",
    "    for word in sentence: \n",
    "        try:\n",
    "            vec = w2v_model.wv[word]\n",
    "            tf_idf = final_tf_idf[row, features.index(word)]\n",
    "            sentence_vec += (vec * tf_idf)\n",
    "            weight_sum += tf_idf\n",
    "        except:\n",
    "            pass\n",
    "    sentence_vec /= weight_sum\n",
    "    tfidf_vectors.append(sentence_vec)\n",
    "    row += 1"
   ]
  },
  {
   "cell_type": "code",
   "execution_count": 244,
   "metadata": {
    "ExecuteTime": {
     "end_time": "2018-09-04T16:35:47.676807Z",
     "start_time": "2018-09-04T16:35:47.621327Z"
    }
   },
   "outputs": [],
   "source": [
    "z=np.argwhere(np.isnan(tfidf_vectors))[:,0]"
   ]
  },
  {
   "cell_type": "code",
   "execution_count": 245,
   "metadata": {
    "ExecuteTime": {
     "end_time": "2018-09-04T16:36:07.962672Z",
     "start_time": "2018-09-04T16:36:07.958682Z"
    }
   },
   "outputs": [],
   "source": [
    "z=list(set(z))"
   ]
  },
  {
   "cell_type": "code",
   "execution_count": 246,
   "metadata": {
    "ExecuteTime": {
     "end_time": "2018-09-04T16:36:32.742946Z",
     "start_time": "2018-09-04T16:36:32.712029Z"
    }
   },
   "outputs": [
    {
     "data": {
      "text/plain": [
       "array([[ 3646,     0],\n",
       "       [ 3646,     1],\n",
       "       [ 3646,     2],\n",
       "       [ 3646,     3],\n",
       "       [ 3646,     4],\n",
       "       [ 3646,     5],\n",
       "       [ 3646,     6],\n",
       "       [ 3646,     7],\n",
       "       [ 3646,     8],\n",
       "       [ 3646,     9],\n",
       "       [ 3646,    10],\n",
       "       [ 3646,    11],\n",
       "       [ 3646,    12],\n",
       "       [ 3646,    13],\n",
       "       [ 3646,    14],\n",
       "       [ 3646,    15],\n",
       "       [ 3646,    16],\n",
       "       [ 3646,    17],\n",
       "       [ 3646,    18],\n",
       "       [ 3646,    19],\n",
       "       [ 3646,    20],\n",
       "       [ 3646,    21],\n",
       "       [ 3646,    22],\n",
       "       [ 3646,    23],\n",
       "       [ 3646,    24],\n",
       "       [ 3646,    25],\n",
       "       [ 3646,    26],\n",
       "       [ 3646,    27],\n",
       "       [ 3646,    28],\n",
       "       [ 3646,    29],\n",
       "       [ 3646,    30],\n",
       "       [ 3646,    31],\n",
       "       [ 3646,    32],\n",
       "       [ 3646,    33],\n",
       "       [ 3646,    34],\n",
       "       [ 3646,    35],\n",
       "       [ 3646,    36],\n",
       "       [ 3646,    37],\n",
       "       [ 3646,    38],\n",
       "       [ 3646,    39],\n",
       "       [ 3646,    40],\n",
       "       [ 3646,    41],\n",
       "       [ 3646,    42],\n",
       "       [ 3646,    43],\n",
       "       [ 3646,    44],\n",
       "       [ 3646,    45],\n",
       "       [ 3646,    46],\n",
       "       [ 3646,    47],\n",
       "       [ 3646,    48],\n",
       "       [ 3646,    49],\n",
       "       [ 9966,     0],\n",
       "       [ 9966,     1],\n",
       "       [ 9966,     2],\n",
       "       [ 9966,     3],\n",
       "       [ 9966,     4],\n",
       "       [ 9966,     5],\n",
       "       [ 9966,     6],\n",
       "       [ 9966,     7],\n",
       "       [ 9966,     8],\n",
       "       [ 9966,     9],\n",
       "       [ 9966,    10],\n",
       "       [ 9966,    11],\n",
       "       [ 9966,    12],\n",
       "       [ 9966,    13],\n",
       "       [ 9966,    14],\n",
       "       [ 9966,    15],\n",
       "       [ 9966,    16],\n",
       "       [ 9966,    17],\n",
       "       [ 9966,    18],\n",
       "       [ 9966,    19],\n",
       "       [ 9966,    20],\n",
       "       [ 9966,    21],\n",
       "       [ 9966,    22],\n",
       "       [ 9966,    23],\n",
       "       [ 9966,    24],\n",
       "       [ 9966,    25],\n",
       "       [ 9966,    26],\n",
       "       [ 9966,    27],\n",
       "       [ 9966,    28],\n",
       "       [ 9966,    29],\n",
       "       [ 9966,    30],\n",
       "       [ 9966,    31],\n",
       "       [ 9966,    32],\n",
       "       [ 9966,    33],\n",
       "       [ 9966,    34],\n",
       "       [ 9966,    35],\n",
       "       [ 9966,    36],\n",
       "       [ 9966,    37],\n",
       "       [ 9966,    38],\n",
       "       [ 9966,    39],\n",
       "       [ 9966,    40],\n",
       "       [ 9966,    41],\n",
       "       [ 9966,    42],\n",
       "       [ 9966,    43],\n",
       "       [ 9966,    44],\n",
       "       [ 9966,    45],\n",
       "       [ 9966,    46],\n",
       "       [ 9966,    47],\n",
       "       [ 9966,    48],\n",
       "       [ 9966,    49],\n",
       "       [17590,     0],\n",
       "       [17590,     1],\n",
       "       [17590,     2],\n",
       "       [17590,     3],\n",
       "       [17590,     4],\n",
       "       [17590,     5],\n",
       "       [17590,     6],\n",
       "       [17590,     7],\n",
       "       [17590,     8],\n",
       "       [17590,     9],\n",
       "       [17590,    10],\n",
       "       [17590,    11],\n",
       "       [17590,    12],\n",
       "       [17590,    13],\n",
       "       [17590,    14],\n",
       "       [17590,    15],\n",
       "       [17590,    16],\n",
       "       [17590,    17],\n",
       "       [17590,    18],\n",
       "       [17590,    19],\n",
       "       [17590,    20],\n",
       "       [17590,    21],\n",
       "       [17590,    22],\n",
       "       [17590,    23],\n",
       "       [17590,    24],\n",
       "       [17590,    25],\n",
       "       [17590,    26],\n",
       "       [17590,    27],\n",
       "       [17590,    28],\n",
       "       [17590,    29],\n",
       "       [17590,    30],\n",
       "       [17590,    31],\n",
       "       [17590,    32],\n",
       "       [17590,    33],\n",
       "       [17590,    34],\n",
       "       [17590,    35],\n",
       "       [17590,    36],\n",
       "       [17590,    37],\n",
       "       [17590,    38],\n",
       "       [17590,    39],\n",
       "       [17590,    40],\n",
       "       [17590,    41],\n",
       "       [17590,    42],\n",
       "       [17590,    43],\n",
       "       [17590,    44],\n",
       "       [17590,    45],\n",
       "       [17590,    46],\n",
       "       [17590,    47],\n",
       "       [17590,    48],\n",
       "       [17590,    49]], dtype=int64)"
      ]
     },
     "execution_count": 246,
     "metadata": {},
     "output_type": "execute_result"
    }
   ],
   "source": [
    "np.argwhere(np.isnan(tfidf_vectors)) "
   ]
  },
  {
   "cell_type": "code",
   "execution_count": 247,
   "metadata": {
    "ExecuteTime": {
     "end_time": "2018-09-04T16:38:15.535626Z",
     "start_time": "2018-09-04T16:38:15.532635Z"
    }
   },
   "outputs": [],
   "source": [
    "z = [3646,9966,17590]"
   ]
  },
  {
   "cell_type": "code",
   "execution_count": 248,
   "metadata": {
    "ExecuteTime": {
     "end_time": "2018-09-04T16:38:28.237749Z",
     "start_time": "2018-09-04T16:38:28.202842Z"
    }
   },
   "outputs": [],
   "source": [
    "tfidf_vectors=np.delete(tfidf_vectors,z , axis=0)"
   ]
  },
  {
   "cell_type": "code",
   "execution_count": 252,
   "metadata": {
    "ExecuteTime": {
     "end_time": "2018-09-04T16:42:29.214943Z",
     "start_time": "2018-09-04T16:42:29.210926Z"
    }
   },
   "outputs": [],
   "source": [
    "sample_score=np.array(sample_score)"
   ]
  },
  {
   "cell_type": "code",
   "execution_count": 253,
   "metadata": {
    "ExecuteTime": {
     "end_time": "2018-09-04T16:43:23.867747Z",
     "start_time": "2018-09-04T16:43:23.863758Z"
    }
   },
   "outputs": [],
   "source": [
    "sample_score=np.delete(sample_score,z,axis=0)"
   ]
  },
  {
   "cell_type": "code",
   "execution_count": 254,
   "metadata": {
    "ExecuteTime": {
     "end_time": "2018-09-04T16:43:25.391184Z",
     "start_time": "2018-09-04T16:43:25.379216Z"
    }
   },
   "outputs": [
    {
     "data": {
      "text/plain": [
       "array([], shape=(0, 2), dtype=int64)"
      ]
     },
     "execution_count": 254,
     "metadata": {},
     "output_type": "execute_result"
    }
   ],
   "source": [
    "np.argwhere(np.isnan(tfidf_vectors))"
   ]
  },
  {
   "cell_type": "code",
   "execution_count": 255,
   "metadata": {
    "ExecuteTime": {
     "end_time": "2018-09-04T16:43:27.012048Z",
     "start_time": "2018-09-04T16:43:26.999056Z"
    }
   },
   "outputs": [],
   "source": [
    "X_train,X_test,y_train,y_test = train_test_split(tfidf_vectors,sample_score,test_size=0.3,random_state=0)"
   ]
  },
  {
   "cell_type": "code",
   "execution_count": 256,
   "metadata": {
    "ExecuteTime": {
     "end_time": "2018-09-04T16:48:04.578399Z",
     "start_time": "2018-09-04T16:45:34.395353Z"
    }
   },
   "outputs": [
    {
     "name": "stdout",
     "output_type": "stream",
     "text": [
      "Fitting 10 folds for each of 30 candidates, totalling 300 fits\n"
     ]
    },
    {
     "name": "stderr",
     "output_type": "stream",
     "text": [
      "[Parallel(n_jobs=1)]: Done 300 out of 300 | elapsed:  2.5min finished\n"
     ]
    },
    {
     "name": "stdout",
     "output_type": "stream",
     "text": [
      "Best HyperParameter:  {'C': 10, 'penalty': 'l2'}\n",
      "Best Accuracy: 86.05%\n"
     ]
    }
   ],
   "source": [
    "lr = LogisticRegression()\n",
    "#params we need to try on classifier\n",
    "param_grid = {'C':[1000,500,100,50,10,5,1,0.5,0.1,0.05,0.01,0.005,0.001,0.0005,0.0001],'penalty':['l1','l2']} \n",
    "tscv = TimeSeriesSplit(n_splits=10) #For time based splitting\n",
    "gscv = GridSearchCV(lr,param_grid,cv=tscv,verbose=1)\n",
    "gscv.fit(X_train,y_train)\n",
    "SaveToFile(gscv,\"LR GridSearch TF_IDF-WORD2VEC\")\n",
    "print(\"Best HyperParameter: \",gscv.best_params_)\n",
    "print(\"Best Accuracy: %.2f%%\"%(gscv.best_score_*100))"
   ]
  },
  {
   "cell_type": "code",
   "execution_count": 257,
   "metadata": {
    "ExecuteTime": {
     "end_time": "2018-09-04T16:48:48.813796Z",
     "start_time": "2018-09-04T16:48:48.809806Z"
    }
   },
   "outputs": [
    {
     "name": "stdout",
     "output_type": "stream",
     "text": [
      "LogisticRegression(C=10, class_weight=None, dual=False, fit_intercept=True,\n",
      "          intercept_scaling=1, max_iter=100, multi_class='ovr', n_jobs=1,\n",
      "          penalty='l2', random_state=None, solver='liblinear', tol=0.0001,\n",
      "          verbose=0, warm_start=False)\n"
     ]
    }
   ],
   "source": [
    "print(gscv.best_estimator_)"
   ]
  },
  {
   "cell_type": "code",
   "execution_count": 258,
   "metadata": {
    "ExecuteTime": {
     "end_time": "2018-09-04T16:49:10.467583Z",
     "start_time": "2018-09-04T16:49:10.463577Z"
    }
   },
   "outputs": [
    {
     "name": "stdout",
     "output_type": "stream",
     "text": [
      "9\n"
     ]
    }
   ],
   "source": [
    "print(gscv.best_index_)"
   ]
  },
  {
   "cell_type": "code",
   "execution_count": 260,
   "metadata": {
    "ExecuteTime": {
     "end_time": "2018-09-04T16:52:30.839321Z",
     "start_time": "2018-09-04T16:52:30.720659Z"
    }
   },
   "outputs": [
    {
     "data": {
      "image/png": "[encoded data removed]",
      "text/plain": [
       "<Figure size 432x288 with 1 Axes>"
      ]
     },
     "metadata": {},
     "output_type": "display_data"
    }
   ],
   "source": [
    "gscv = OpenFromFile(\"LR GridSearch TF_IDF-WORD2VEC\")\n",
    "error_vs_c(gscv)"
   ]
  },
  {
   "cell_type": "code",
   "execution_count": 259,
   "metadata": {
    "ExecuteTime": {
     "end_time": "2018-09-04T16:51:26.793821Z",
     "start_time": "2018-09-04T16:51:26.052803Z"
    }
   },
   "outputs": [
    {
     "name": "stdout",
     "output_type": "stream",
     "text": [
      "Accuracy on test set: 86.187%\n",
      "Precision on test set: 0.881\n",
      "Recall on test set: 0.966\n",
      "F1-Score on test set: 0.922\n",
      "Non Zero weights: 50\n"
     ]
    },
    {
     "data": {
      "text/plain": [
       "<matplotlib.axes._subplots.AxesSubplot at 0x21783118908>"
      ]
     },
     "execution_count": 259,
     "metadata": {},
     "output_type": "execute_result"
    },
    {
     "data": {
      "image/png": "[encoded data removed]",
      "text/plain": [
       "<Figure size 432x288 with 2 Axes>"
      ]
     },
     "metadata": {},
     "output_type": "display_data"
    }
   ],
   "source": [
    "lr = LogisticRegression(C= 10, penalty= 'l2')\n",
    "lr.fit(X_train,y_train)\n",
    "y_pred = lr.predict(X_test)\n",
    "print(\"Accuracy on test set: %0.3f%%\"%(accuracy_score(y_test, y_pred)*100))\n",
    "print(\"Precision on test set: %0.3f\"%(precision_score(y_test, y_pred)))\n",
    "print(\"Recall on test set: %0.3f\"%(recall_score(y_test, y_pred)))\n",
    "print(\"F1-Score on test set: %0.3f\"%(f1_score(y_test, y_pred)))\n",
    "print(\"Non Zero weights:\",np.count_nonzero(lr.coef_))\n",
    "df_cm = pd.DataFrame(confusion_matrix(y_test, y_pred), range(2),range(2))\n",
    "sns.set(font_scale=1.4)#for label size\n",
    "sns.heatmap(df_cm, annot=True,annot_kws={\"size\": 16}, fmt='g')"
   ]
  },
  {
   "cell_type": "code",
   "execution_count": 261,
   "metadata": {
    "ExecuteTime": {
     "end_time": "2018-09-04T16:59:33.676267Z",
     "start_time": "2018-09-04T16:58:46.684912Z"
    }
   },
   "outputs": [
    {
     "name": "stdout",
     "output_type": "stream",
     "text": [
      "Fitting 10 folds for each of 10 candidates, totalling 100 fits\n"
     ]
    },
    {
     "name": "stderr",
     "output_type": "stream",
     "text": [
      "[Parallel(n_jobs=1)]: Done 100 out of 100 | elapsed:   46.3s finished\n"
     ]
    },
    {
     "name": "stdout",
     "output_type": "stream",
     "text": [
      "Best HyperParameter:  {'penalty': 'l2', 'C': 5}\n",
      "Best Accuracy: 86.03%\n"
     ]
    }
   ],
   "source": [
    "lr = LogisticRegression()\n",
    "#params we need to try on classifier\n",
    "param_grid = {'C':[1000,500,100,50,10,5,1,0.5,0.1,0.05,0.01,0.005,0.001,0.0005,0.0001],'penalty':['l1','l2']} \n",
    "tscv = TimeSeriesSplit(n_splits=10) #For time based splitting\n",
    "gscv = RandomizedSearchCV(lr,param_grid,cv=tscv,verbose=1)\n",
    "gscv.fit(X_train,y_train)\n",
    "SaveToFile(gscv,\"LR RandomSearch TF_IDF-WORD2VEC\")\n",
    "print(\"Best HyperParameter: \",gscv.best_params_)\n",
    "print(\"Best Accuracy: %.2f%%\"%(gscv.best_score_*100))"
   ]
  },
  {
   "cell_type": "code",
   "execution_count": 262,
   "metadata": {
    "ExecuteTime": {
     "end_time": "2018-09-04T17:00:51.717497Z",
     "start_time": "2018-09-04T17:00:51.713508Z"
    }
   },
   "outputs": [
    {
     "name": "stdout",
     "output_type": "stream",
     "text": [
      "LogisticRegression(C=5, class_weight=None, dual=False, fit_intercept=True,\n",
      "          intercept_scaling=1, max_iter=100, multi_class='ovr', n_jobs=1,\n",
      "          penalty='l2', random_state=None, solver='liblinear', tol=0.0001,\n",
      "          verbose=0, warm_start=False)\n"
     ]
    }
   ],
   "source": [
    "print(gscv.best_estimator_)"
   ]
  },
  {
   "cell_type": "code",
   "execution_count": 263,
   "metadata": {
    "ExecuteTime": {
     "end_time": "2018-09-04T17:01:11.199284Z",
     "start_time": "2018-09-04T17:01:11.194270Z"
    }
   },
   "outputs": [
    {
     "name": "stdout",
     "output_type": "stream",
     "text": [
      "7\n"
     ]
    }
   ],
   "source": [
    "print(gscv.best_index_)"
   ]
  },
  {
   "cell_type": "code",
   "execution_count": 264,
   "metadata": {
    "ExecuteTime": {
     "end_time": "2018-09-04T17:01:25.550588Z",
     "start_time": "2018-09-04T17:01:25.545630Z"
    }
   },
   "outputs": [
    {
     "name": "stdout",
     "output_type": "stream",
     "text": [
      "{'penalty': 'l2', 'C': 5}\n"
     ]
    }
   ],
   "source": [
    "print(gscv.best_params_)"
   ]
  },
  {
   "cell_type": "code",
   "execution_count": 265,
   "metadata": {
    "ExecuteTime": {
     "end_time": "2018-09-04T17:03:16.121185Z",
     "start_time": "2018-09-04T17:03:16.003497Z"
    }
   },
   "outputs": [
    {
     "data": {
      "image/png": "[encoded data removed]",
      "text/plain": [
       "<Figure size 432x288 with 1 Axes>"
      ]
     },
     "metadata": {},
     "output_type": "display_data"
    }
   ],
   "source": [
    "gscv = OpenFromFile(\"LR RandomSearch TF_IDF-WORD2VEC\")\n",
    "error_vs_c(gscv)"
   ]
  },
  {
   "cell_type": "code",
   "execution_count": 266,
   "metadata": {
    "ExecuteTime": {
     "end_time": "2018-09-04T17:03:52.006199Z",
     "start_time": "2018-09-04T17:03:51.396810Z"
    }
   },
   "outputs": [
    {
     "name": "stdout",
     "output_type": "stream",
     "text": [
      "Accuracy on test set: 86.227%\n",
      "Precision on test set: 0.882\n",
      "Recall on test set: 0.967\n",
      "F1-Score on test set: 0.922\n",
      "Non Zero weights: 50\n"
     ]
    },
    {
     "data": {
      "text/plain": [
       "<matplotlib.axes._subplots.AxesSubplot at 0x2178b45ca58>"
      ]
     },
     "execution_count": 266,
     "metadata": {},
     "output_type": "execute_result"
    },
    {
     "data": {
      "image/png": "[encoded data removed]",
      "text/plain": [
       "<Figure size 432x288 with 2 Axes>"
      ]
     },
     "metadata": {},
     "output_type": "display_data"
    }
   ],
   "source": [
    "lr = LogisticRegression(C= 5, penalty= 'l2')\n",
    "lr.fit(X_train,y_train)\n",
    "y_pred = lr.predict(X_test)\n",
    "print(\"Accuracy on test set: %0.3f%%\"%(accuracy_score(y_test, y_pred)*100))\n",
    "print(\"Precision on test set: %0.3f\"%(precision_score(y_test, y_pred)))\n",
    "print(\"Recall on test set: %0.3f\"%(recall_score(y_test, y_pred)))\n",
    "print(\"F1-Score on test set: %0.3f\"%(f1_score(y_test, y_pred)))\n",
    "print(\"Non Zero weights:\",np.count_nonzero(lr.coef_))\n",
    "df_cm = pd.DataFrame(confusion_matrix(y_test, y_pred), range(2),range(2))\n",
    "sns.set(font_scale=1.4)#for label size\n",
    "sns.heatmap(df_cm, annot=True,annot_kws={\"size\": 16}, fmt='g')"
   ]
  },
  {
   "cell_type": "markdown",
   "metadata": {},
   "source": [
    "### Perturbation Test"
   ]
  },
  {
   "cell_type": "code",
   "execution_count": 267,
   "metadata": {
    "ExecuteTime": {
     "end_time": "2018-09-04T17:04:47.822177Z",
     "start_time": "2018-09-04T17:04:47.330492Z"
    }
   },
   "outputs": [
    {
     "name": "stdout",
     "output_type": "stream",
     "text": [
      "Accuracy on test set: 86.227%\n",
      "Non Zero weights: 50\n"
     ]
    }
   ],
   "source": [
    "lr = LogisticRegression(C= 5, penalty= 'l2')\n",
    "lr.fit(X_train,y_train)\n",
    "y_pred = lr.predict(X_test)\n",
    "print(\"Accuracy on test set: %0.3f%%\"%(accuracy_score(y_test, y_pred)*100))\n",
    "print(\"Non Zero weights:\",np.count_nonzero(lr.coef_))"
   ]
  },
  {
   "cell_type": "code",
   "execution_count": 269,
   "metadata": {
    "ExecuteTime": {
     "end_time": "2018-09-04T17:05:09.057056Z",
     "start_time": "2018-09-04T17:05:09.052069Z"
    }
   },
   "outputs": [
    {
     "name": "stdout",
     "output_type": "stream",
     "text": [
      "[ 0.85140106  0.15080667 -0.47137982 -1.21143312 -3.11978205  0.56073579\n",
      " -0.8650186  -1.14570778 -1.0323636  -3.55991453 -2.09913239  1.25245376\n",
      "  0.94425961 -1.15782519 -1.00034488  1.43957025  0.41266888  0.81933431\n",
      "  0.21314273 -1.52419259 -1.37361027 -0.61091171  0.2468288  -2.46576794\n",
      " -1.08290379  1.83429092  0.46649614  0.84639756 -1.91933502  0.99213123\n",
      "  1.28953694  1.46354464  3.04039226 -1.03135897 -0.17611336  0.89710798\n",
      " -2.49996165  1.0640258  -1.37623543 -0.96134839  0.37146899 -0.21674355\n",
      "  0.1001195   1.1453636   1.96119408 -2.75538027  1.01289341  0.46946743\n",
      "  0.05331577  1.60813202]\n"
     ]
    }
   ],
   "source": [
    "weights1 = find(lr.coef_[0])[2]\n",
    "print(weights1[:50])"
   ]
  },
  {
   "cell_type": "code",
   "execution_count": 270,
   "metadata": {
    "ExecuteTime": {
     "end_time": "2018-09-04T17:05:20.138412Z",
     "start_time": "2018-09-04T17:05:19.993797Z"
    }
   },
   "outputs": [],
   "source": [
    "X_train_t = X_train\n",
    "#Random noise\n",
    "epsilon = np.random.uniform(low=-0.0001, high=0.0001, size=(find(X_train_t)[0].size,))\n",
    "#Getting the postions(row and column) and value of non-zero datapoints \n",
    "a,b,c = find(X_train_t)\n",
    "\n",
    "#Introducing random noise to non-zero datapoints\n",
    "X_train_t[a,b] = epsilon + X_train_t[a,b]"
   ]
  },
  {
   "cell_type": "code",
   "execution_count": 271,
   "metadata": {
    "ExecuteTime": {
     "end_time": "2018-09-04T17:06:31.933657Z",
     "start_time": "2018-09-04T17:06:31.329273Z"
    }
   },
   "outputs": [
    {
     "name": "stdout",
     "output_type": "stream",
     "text": [
      "Accuracy on test set: 86.187%\n",
      "Non Zero weights: 50\n"
     ]
    }
   ],
   "source": [
    "lr = LogisticRegression(C= 10, penalty= 'l2')\n",
    "lr.fit(X_train_t,y_train)\n",
    "y_pred = lr.predict(X_test)\n",
    "print(\"Accuracy on test set: %0.3f%%\"%(accuracy_score(y_test, y_pred)*100))\n",
    "print(\"Non Zero weights:\",np.count_nonzero(lr.coef_))"
   ]
  },
  {
   "cell_type": "code",
   "execution_count": 273,
   "metadata": {
    "ExecuteTime": {
     "end_time": "2018-09-04T17:06:51.753309Z",
     "start_time": "2018-09-04T17:06:51.748322Z"
    }
   },
   "outputs": [
    {
     "name": "stdout",
     "output_type": "stream",
     "text": [
      "[ 0.8854831   0.20954222 -0.48808018 -1.23295865 -3.31534742  0.7838621\n",
      " -0.98560784 -1.21649871 -1.11355162 -3.6731995  -2.18194766  1.43989541\n",
      "  0.91836576 -1.1939747  -1.00691925  1.61533207  0.44502648  0.80041981\n",
      "  0.15059129 -1.7242415  -1.37110227 -0.71027869  0.28379196 -2.54869032\n",
      " -1.22970968  2.00331089  0.56482196  0.89470628 -1.95247216  1.08116929\n",
      "  1.45711025  1.50285721  3.13965845 -1.14557747 -0.16926538  0.97608088\n",
      " -2.67150879  1.14837979 -1.36926686 -1.08388821  0.30489863 -0.20058412\n",
      "  0.0184552   1.28032828  2.10506481 -2.90872486  0.9619239   0.47855119\n",
      "  0.0053451   1.72583969]\n"
     ]
    }
   ],
   "source": [
    "weights2 = find(lr.coef_[0])[2]\n",
    "print(weights2[:50])"
   ]
  },
  {
   "cell_type": "code",
   "execution_count": 274,
   "metadata": {
    "ExecuteTime": {
     "end_time": "2018-09-04T17:07:03.804772Z",
     "start_time": "2018-09-04T17:07:03.800783Z"
    }
   },
   "outputs": [],
   "source": [
    "weights_diff = (abs(weights2 - weights1)/weights1) * 100"
   ]
  },
  {
   "cell_type": "code",
   "execution_count": 276,
   "metadata": {
    "ExecuteTime": {
     "end_time": "2018-09-04T17:07:42.948082Z",
     "start_time": "2018-09-04T17:07:42.943095Z"
    }
   },
   "outputs": [
    {
     "name": "stdout",
     "output_type": "stream",
     "text": [
      "4\n"
     ]
    }
   ],
   "source": [
    " print(weights_diff[np.where(weights_diff > 30)].size)"
   ]
  },
  {
   "cell_type": "markdown",
   "metadata": {},
   "source": [
    "### Analysis of Logistic Regression Model on 100k data points"
   ]
  },
  {
   "cell_type": "markdown",
   "metadata": {},
   "source": [
    "| Feature | Algoritms      | Accuracy | Precision | Recall|F1- Scores |Best Value for C| Penalty    |\n",
    "| ------- | ---------      | -------- | --------- | ------|-----------|--------------- |------------|\n",
    "| Uni-gram| GridSearchCV   | 91.45    | 0.93      | 0.96  |0.94       |  C=10          | penalty='l2'|\n",
    "| Uni-gram| RandomSearchCV | 91.45    | 0.93      | 0.96  |0.94       |  C=10          | penalty='l2'|\n",
    "|Bi-gram  | GridSearchCV   | 92.44    | 0.93      | 0.97  |0.95       |  C=1000        | penalty='l2'|\n",
    "|Bi -gram |RandomSearchCV  | 92.14    | 0.93      | 0.97  |0.95       |  C=10          | penalty='l2'|\n",
    "|TF-IDF   |GridSearchCV    |92.14     | 0.93      | 0.96  |0.95       |  C=5           | penalty='l1'|\n",
    "|TF-IDF   |RandomSearchCV  |92.13     | 0.93      | 0.96  |0.95       |  C=5           | penalty='l1'|\n",
    "|Word2Vec |GridSearchCV    |87.42     | 0.93      | 0.96  |0.95       |  C=1           | penalty='l1'|\n",
    "|Word2Vec |RandomSearchCV  |87.39     | 0.89      | 0.96  |0.92       |  C=1           | penalty='l2'|\n",
    "|TFIDF W2V|GridSearchCV    |86.18     | 0.88      | 0.96  |0.92       |  C=10          | penalty='l2'|\n",
    "|TFIDF W2V|RandomSearchCV  |86.22     | 0.88      | 0.96  |0.92       |  C=5           | penalty='l2'|\n",
    "\n"
   ]
  },
  {
   "cell_type": "markdown",
   "metadata": {},
   "source": [
    "### Observation\n",
    "- We did uni-gram,bi-gram,tf-idf,tfidf-word2vec on data points\n",
    "- TF-IDF using GridSearch has highest accuracy among all of them\n",
    "- We see that when C decreases or lambda increases the sparsity increases drastically,that mean L1 regularizer increase the sparsity in Logistic Regression\n",
    "- Multicolinearity is exits in this model\n"
   ]
  },
  {
   "cell_type": "code",
   "execution_count": null,
   "metadata": {},
   "outputs": [],
   "source": []
  }
 ],
 "metadata": {
  "kernelspec": {
   "display_name": "Python 3",
   "language": "python",
   "name": "python3"
  },
  "language_info": {
   "codemirror_mode": {
    "name": "ipython",
    "version": 3
   },
   "file_extension": ".py",
   "mimetype": "text/x-python",
   "name": "python",
   "nbconvert_exporter": "python",
   "pygments_lexer": "ipython3",
   "version": "3.6.6"
  }
 },
 "nbformat": 4,
 "nbformat_minor": 2
}
